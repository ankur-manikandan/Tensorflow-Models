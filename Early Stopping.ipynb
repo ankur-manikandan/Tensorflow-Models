{
 "cells": [
  {
   "cell_type": "code",
   "execution_count": 8,
   "metadata": {},
   "outputs": [],
   "source": [
    "%matplotlib inline\n",
    "\n",
    "import numpy as np\n",
    "import matplotlib.pyplot as plt\n",
    "\n",
    "from sklearn.datasets import load_diabetes\n",
    "from sklearn.model_selection import train_test_split\n",
    "\n",
    "import tensorflow as tf\n",
    "from tensorflow.keras.models import Sequential\n",
    "from tensorflow.keras.layers import Dense, Dropout, BatchNormalization\n",
    "from tensorflow.keras import regularizers\n",
    "from tensorflow.keras.callbacks import EarlyStopping"
   ]
  },
  {
   "cell_type": "code",
   "execution_count": 2,
   "metadata": {},
   "outputs": [
    {
     "name": "stdout",
     "output_type": "stream",
     "text": [
      "dict_keys(['data', 'target', 'DESCR', 'feature_names', 'data_filename', 'target_filename'])\n"
     ]
    }
   ],
   "source": [
    "# Load the diabetes dataset\n",
    "diabetes_dataset = load_diabetes()\n",
    "print(diabetes_dataset.keys())"
   ]
  },
  {
   "cell_type": "code",
   "execution_count": 3,
   "metadata": {},
   "outputs": [],
   "source": [
    "# Assign variables to store the data and the targets\n",
    "data = diabetes_dataset['data']\n",
    "targets = diabetes_dataset['target']"
   ]
  },
  {
   "cell_type": "code",
   "execution_count": 4,
   "metadata": {},
   "outputs": [
    {
     "data": {
      "image/png": "[encoded data removed]",
      "text/plain": [
       "<Figure size 432x288 with 1 Axes>"
      ]
     },
     "metadata": {
      "needs_background": "light"
     },
     "output_type": "display_data"
    }
   ],
   "source": [
    "plt.figure(1)\n",
    "plt.hist(targets, bins=50)\n",
    "plt.show()"
   ]
  },
  {
   "cell_type": "code",
   "execution_count": 5,
   "metadata": {},
   "outputs": [],
   "source": [
    "# Normalise the target data (this will make clearer training curves)\n",
    "targets = (targets - targets.mean(axis=0)) / targets.std()"
   ]
  },
  {
   "cell_type": "code",
   "execution_count": 6,
   "metadata": {},
   "outputs": [
    {
     "data": {
      "image/png": "[encoded data removed]",
      "text/plain": [
       "<Figure size 432x288 with 1 Axes>"
      ]
     },
     "metadata": {
      "needs_background": "light"
     },
     "output_type": "display_data"
    }
   ],
   "source": [
    "plt.figure(2)\n",
    "plt.hist(targets, bins=50)\n",
    "plt.show()"
   ]
  },
  {
   "cell_type": "code",
   "execution_count": 7,
   "metadata": {},
   "outputs": [],
   "source": [
    "# Split the data into train and test sets\n",
    "train_data, test_data, train_targets, test_targets = train_test_split(\n",
    "    data, targets, test_size=0.1)"
   ]
  },
  {
   "cell_type": "code",
   "execution_count": 9,
   "metadata": {},
   "outputs": [],
   "source": [
    "rate = 0.3 # dropout rate\n",
    "\n",
    "# Feedforward model with batch norm layers\n",
    "model = Sequential([\n",
    "    Dense(128, activation=\"relu\", input_shape=(train_data.shape[1],)),\n",
    "    BatchNormalization(),\n",
    "    Dropout(rate),\n",
    "    Dense(128, activation=\"relu\"),\n",
    "    BatchNormalization(),\n",
    "    Dropout(rate),\n",
    "    Dense(128, activation=\"relu\"),\n",
    "    BatchNormalization(),\n",
    "    Dropout(rate),\n",
    "    Dense(128, activation=\"relu\"),\n",
    "    BatchNormalization(),\n",
    "    Dropout(rate),\n",
    "    Dense(128, activation=\"relu\"),\n",
    "    BatchNormalization(),\n",
    "    Dropout(rate),\n",
    "    Dense(128, activation=\"relu\"),\n",
    "    BatchNormalization(),\n",
    "    Dropout(rate),\n",
    "    Dense(1)\n",
    "])"
   ]
  },
  {
   "cell_type": "code",
   "execution_count": 10,
   "metadata": {},
   "outputs": [],
   "source": [
    "# Compile the model\n",
    "model.compile(optimizer=\"adam\", loss=\"mse\", metrics=['mae'])"
   ]
  },
  {
   "cell_type": "code",
   "execution_count": 23,
   "metadata": {},
   "outputs": [],
   "source": [
    "# Alter the parameters of the earlystopping class\n",
    "earlystopping = EarlyStopping(patience=10, monitor=\"val_loss\", min_delta=0.001)"
   ]
  },
  {
   "cell_type": "code",
   "execution_count": 24,
   "metadata": {},
   "outputs": [
    {
     "name": "stdout",
     "output_type": "stream",
     "text": [
      "Epoch 1/100\n",
      "5/5 [==============================] - 0s 15ms/step - loss: 0.4993 - mae: 0.5852 - val_loss: 0.3644 - val_mae: 0.4667\n",
      "Epoch 2/100\n",
      "5/5 [==============================] - 0s 9ms/step - loss: 0.4650 - mae: 0.5457 - val_loss: 0.3620 - val_mae: 0.4647\n",
      "Epoch 3/100\n",
      "5/5 [==============================] - 0s 9ms/step - loss: 0.4389 - mae: 0.5376 - val_loss: 0.3610 - val_mae: 0.4619\n",
      "Epoch 4/100\n",
      "5/5 [==============================] - 0s 9ms/step - loss: 0.4860 - mae: 0.5655 - val_loss: 0.3607 - val_mae: 0.4586\n",
      "Epoch 5/100\n",
      "5/5 [==============================] - 0s 9ms/step - loss: 0.4491 - mae: 0.5410 - val_loss: 0.3601 - val_mae: 0.4570\n",
      "Epoch 6/100\n",
      "5/5 [==============================] - 0s 9ms/step - loss: 0.5200 - mae: 0.5822 - val_loss: 0.3596 - val_mae: 0.4565\n",
      "Epoch 7/100\n",
      "5/5 [==============================] - 0s 9ms/step - loss: 0.4659 - mae: 0.5567 - val_loss: 0.3592 - val_mae: 0.4561\n",
      "Epoch 8/100\n",
      "5/5 [==============================] - 0s 9ms/step - loss: 0.4756 - mae: 0.5581 - val_loss: 0.3597 - val_mae: 0.4567\n",
      "Epoch 9/100\n",
      "5/5 [==============================] - 0s 9ms/step - loss: 0.4426 - mae: 0.5396 - val_loss: 0.3595 - val_mae: 0.4586\n",
      "Epoch 10/100\n",
      "5/5 [==============================] - 0s 9ms/step - loss: 0.4519 - mae: 0.5447 - val_loss: 0.3610 - val_mae: 0.4595\n",
      "Epoch 11/100\n",
      "5/5 [==============================] - 0s 9ms/step - loss: 0.4764 - mae: 0.5500 - val_loss: 0.3633 - val_mae: 0.4625\n",
      "Epoch 12/100\n",
      "5/5 [==============================] - 0s 9ms/step - loss: 0.4610 - mae: 0.5493 - val_loss: 0.3660 - val_mae: 0.4665\n",
      "Epoch 13/100\n",
      "5/5 [==============================] - 0s 10ms/step - loss: 0.4480 - mae: 0.5513 - val_loss: 0.3708 - val_mae: 0.4693\n",
      "Epoch 14/100\n",
      "5/5 [==============================] - 0s 9ms/step - loss: 0.4820 - mae: 0.5592 - val_loss: 0.3723 - val_mae: 0.4697\n",
      "Epoch 15/100\n",
      "5/5 [==============================] - 0s 9ms/step - loss: 0.4669 - mae: 0.5573 - val_loss: 0.3733 - val_mae: 0.4695\n",
      "Epoch 16/100\n",
      "5/5 [==============================] - 0s 11ms/step - loss: 0.4770 - mae: 0.5588 - val_loss: 0.3704 - val_mae: 0.4665\n"
     ]
    },
    {
     "data": {
      "text/plain": [
       "<tensorflow.python.keras.callbacks.History at 0x7fa361ee9b70>"
      ]
     },
     "execution_count": 24,
     "metadata": {},
     "output_type": "execute_result"
    }
   ],
   "source": [
    "# Fit the model\n",
    "model.fit(train_data, train_targets, epochs=100,\n",
    "         batch_size=64, validation_split=0.2, callbacks=[earlystopping])"
   ]
  },
  {
   "cell_type": "code",
   "execution_count": 25,
   "metadata": {},
   "outputs": [
    {
     "name": "stdout",
     "output_type": "stream",
     "text": [
      "2/2 - 0s - loss: 0.6661 - mae: 0.6465\n"
     ]
    },
    {
     "data": {
      "text/plain": [
       "[0.6660817265510559, 0.6465321183204651]"
      ]
     },
     "execution_count": 25,
     "metadata": {},
     "output_type": "execute_result"
    }
   ],
   "source": [
    "# Evaluate the model\n",
    "model.evaluate(test_data, test_targets, verbose=2)"
   ]
  },
  {
   "cell_type": "code",
   "execution_count": null,
   "metadata": {},
   "outputs": [],
   "source": []
  }
 ],
 "metadata": {
  "kernelspec": {
   "display_name": "Python 3",
   "language": "python",
   "name": "python3"
  },
  "language_info": {
   "codemirror_mode": {
    "name": "ipython",
    "version": 3
   },
   "file_extension": ".py",
   "mimetype": "text/x-python",
   "name": "python",
   "nbconvert_exporter": "python",
   "pygments_lexer": "ipython3",
   "version": "3.7.3"
  }
 },
 "nbformat": 4,
 "nbformat_minor": 2
}
