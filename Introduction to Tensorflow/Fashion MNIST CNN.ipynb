{
 "cells": [
  {
   "cell_type": "code",
   "execution_count": 1,
   "metadata": {},
   "outputs": [],
   "source": [
    "%matplotlib inline\n",
    "\n",
    "import numpy as np\n",
    "import pandas as pd\n",
    "import matplotlib.pyplot as plt\n",
    "\n",
    "import tensorflow as tf\n",
    "from tensorflow.keras.models import Sequential\n",
    "from tensorflow.keras.layers import Dense, Flatten"
   ]
  },
  {
   "cell_type": "code",
   "execution_count": 2,
   "metadata": {},
   "outputs": [
    {
     "data": {
      "text/plain": [
       "'2.4.0'"
      ]
     },
     "execution_count": 2,
     "metadata": {},
     "output_type": "execute_result"
    }
   ],
   "source": [
    "tf.__version__"
   ]
  },
  {
   "cell_type": "markdown",
   "metadata": {},
   "source": [
    "# Load the Fashion MNIST dataset"
   ]
  },
  {
   "cell_type": "code",
   "execution_count": 3,
   "metadata": {},
   "outputs": [],
   "source": [
    "# Load the Fashion-MNIST dataset\n",
    "fashion_mnist_data = tf.keras.datasets.fashion_mnist\n",
    "(train_images, train_labels), (test_images, test_labels) = fashion_mnist_data.load_data()"
   ]
  },
  {
   "cell_type": "code",
   "execution_count": 4,
   "metadata": {},
   "outputs": [
    {
     "data": {
      "text/plain": [
       "(60000, 28, 28)"
      ]
     },
     "execution_count": 4,
     "metadata": {},
     "output_type": "execute_result"
    }
   ],
   "source": [
    "train_images.shape"
   ]
  },
  {
   "cell_type": "code",
   "execution_count": 5,
   "metadata": {},
   "outputs": [],
   "source": [
    "# Define the train labels\n",
    "labels = [\n",
    "    'T-shirt/top',\n",
    "    'Trouser',\n",
    "    'Pullover',\n",
    "    'Dress',\n",
    "    'Coat',\n",
    "    'Sandal',\n",
    "    'Shirt',\n",
    "    'Sneaker',\n",
    "    'Bag',\n",
    "    'Ankle boot'\n",
    "]"
   ]
  },
  {
   "cell_type": "code",
   "execution_count": 6,
   "metadata": {},
   "outputs": [],
   "source": [
    "# Rescale the image values so that they lie in between 0 and 1.\n",
    "train_images = train_images / 255.\n",
    "test_images = test_images / 255."
   ]
  },
  {
   "cell_type": "code",
   "execution_count": 7,
   "metadata": {},
   "outputs": [
    {
     "data": {
      "image/png": "[encoded data removed]",
      "text/plain": [
       "<Figure size 432x288 with 1 Axes>"
      ]
     },
     "metadata": {
      "needs_background": "light"
     },
     "output_type": "display_data"
    },
    {
     "name": "stdout",
     "output_type": "stream",
     "text": [
      "Label:  Ankle boot\n"
     ]
    }
   ],
   "source": [
    "# Display an image from the training dataset\n",
    "i = 0  # which training sample\n",
    "img = train_images[i, :, :]\n",
    "plt.figure(1)\n",
    "plt.imshow(img)\n",
    "plt.show()\n",
    "print(\"Label: \", labels[train_labels[i]])"
   ]
  },
  {
   "cell_type": "markdown",
   "metadata": {},
   "source": [
    "# Using Feedforward layers"
   ]
  },
  {
   "cell_type": "code",
   "execution_count": 8,
   "metadata": {},
   "outputs": [],
   "source": [
    "# Define a feedforward neural net\n",
    "model = Sequential([\n",
    "    Flatten(input_shape=(28, 28)),  # Define the size of the input image\n",
    "    Dense(64, activation=\"relu\", name=\"h1\"),\n",
    "    Dense(32, activation=\"relu\", name=\"h2\"),\n",
    "    Dense(16, activation=\"relu\", name=\"h3\"),\n",
    "    Dense(16, activation=\"relu\", name=\"h4\"),\n",
    "    Dense(10, activation=\"softmax\", name=\"op\")\n",
    "])"
   ]
  },
  {
   "cell_type": "code",
   "execution_count": 9,
   "metadata": {},
   "outputs": [
    {
     "name": "stdout",
     "output_type": "stream",
     "text": [
      "Model: \"sequential\"\n",
      "_________________________________________________________________\n",
      "Layer (type)                 Output Shape              Param #   \n",
      "=================================================================\n",
      "flatten (Flatten)            (None, 784)               0         \n",
      "_________________________________________________________________\n",
      "h1 (Dense)                   (None, 64)                50240     \n",
      "_________________________________________________________________\n",
      "h2 (Dense)                   (None, 32)                2080      \n",
      "_________________________________________________________________\n",
      "h3 (Dense)                   (None, 16)                528       \n",
      "_________________________________________________________________\n",
      "h4 (Dense)                   (None, 16)                272       \n",
      "_________________________________________________________________\n",
      "op (Dense)                   (None, 10)                170       \n",
      "=================================================================\n",
      "Total params: 53,290\n",
      "Trainable params: 53,290\n",
      "Non-trainable params: 0\n",
      "_________________________________________________________________\n"
     ]
    }
   ],
   "source": [
    "# Display a summary of the model \n",
    "model.summary()"
   ]
  },
  {
   "cell_type": "code",
   "execution_count": 10,
   "metadata": {},
   "outputs": [],
   "source": [
    "# Define the optimizer\n",
    "opt = tf.keras.optimizers.Adam(learning_rate=0.005)\n",
    "\n",
    "# Compile the model\n",
    "model.compile(optimizer=opt,\n",
    "             loss=\"sparse_categorical_crossentropy\",\n",
    "             metrics=[\"accuracy\"])"
   ]
  },
  {
   "cell_type": "code",
   "execution_count": 11,
   "metadata": {},
   "outputs": [
    {
     "name": "stdout",
     "output_type": "stream",
     "text": [
      "Epoch 1/20\n",
      "1875/1875 [==============================] - 2s 717us/step - loss: 0.7222 - accuracy: 0.7424\n",
      "Epoch 2/20\n",
      "1875/1875 [==============================] - 1s 664us/step - loss: 0.4295 - accuracy: 0.8428\n",
      "Epoch 3/20\n",
      "1875/1875 [==============================] - 1s 621us/step - loss: 0.3869 - accuracy: 0.8597\n",
      "Epoch 4/20\n",
      "1875/1875 [==============================] - 1s 627us/step - loss: 0.3684 - accuracy: 0.8671\n",
      "Epoch 5/20\n",
      "1875/1875 [==============================] - 1s 632us/step - loss: 0.3549 - accuracy: 0.8741\n",
      "Epoch 6/20\n",
      "1875/1875 [==============================] - 1s 627us/step - loss: 0.3478 - accuracy: 0.8756\n",
      "Epoch 7/20\n",
      "1875/1875 [==============================] - 1s 655us/step - loss: 0.3383 - accuracy: 0.8791\n",
      "Epoch 8/20\n",
      "1875/1875 [==============================] - 1s 666us/step - loss: 0.3242 - accuracy: 0.8823\n",
      "Epoch 9/20\n",
      "1875/1875 [==============================] - 1s 642us/step - loss: 0.3251 - accuracy: 0.8830\n",
      "Epoch 10/20\n",
      "1875/1875 [==============================] - 1s 649us/step - loss: 0.3186 - accuracy: 0.8840\n",
      "Epoch 11/20\n",
      "1875/1875 [==============================] - 1s 639us/step - loss: 0.3138 - accuracy: 0.8873\n",
      "Epoch 12/20\n",
      "1875/1875 [==============================] - 1s 711us/step - loss: 0.3029 - accuracy: 0.8914\n",
      "Epoch 13/20\n",
      "1875/1875 [==============================] - 1s 670us/step - loss: 0.3006 - accuracy: 0.8907\n",
      "Epoch 14/20\n",
      "1875/1875 [==============================] - 1s 707us/step - loss: 0.2910 - accuracy: 0.8944\n",
      "Epoch 15/20\n",
      "1875/1875 [==============================] - 1s 763us/step - loss: 0.2954 - accuracy: 0.8966\n",
      "Epoch 16/20\n",
      "1875/1875 [==============================] - 1s 640us/step - loss: 0.2938 - accuracy: 0.8926\n",
      "Epoch 17/20\n",
      "1875/1875 [==============================] - 1s 635us/step - loss: 0.2902 - accuracy: 0.8955\n",
      "Epoch 18/20\n",
      "1875/1875 [==============================] - 1s 697us/step - loss: 0.2913 - accuracy: 0.8935\n",
      "Epoch 19/20\n",
      "1875/1875 [==============================] - 1s 640us/step - loss: 0.2822 - accuracy: 0.8979\n",
      "Epoch 20/20\n",
      "1875/1875 [==============================] - 1s 700us/step - loss: 0.2921 - accuracy: 0.8958\n"
     ]
    }
   ],
   "source": [
    "# Fit the feedforward model\n",
    "history = model.fit(train_images, train_labels,\n",
    "                    epochs=20, batch_size=32)"
   ]
  },
  {
   "cell_type": "code",
   "execution_count": 12,
   "metadata": {},
   "outputs": [
    {
     "data": {
      "text/html": [
       "<div>\n",
       "<style scoped>\n",
       "    .dataframe tbody tr th:only-of-type {\n",
       "        vertical-align: middle;\n",
       "    }\n",
       "\n",
       "    .dataframe tbody tr th {\n",
       "        vertical-align: top;\n",
       "    }\n",
       "\n",
       "    .dataframe thead th {\n",
       "        text-align: right;\n",
       "    }\n",
       "</style>\n",
       "<table border=\"1\" class=\"dataframe\">\n",
       "  <thead>\n",
       "    <tr style=\"text-align: right;\">\n",
       "      <th></th>\n",
       "      <th>loss</th>\n",
       "      <th>accuracy</th>\n",
       "    </tr>\n",
       "  </thead>\n",
       "  <tbody>\n",
       "    <tr>\n",
       "      <th>0</th>\n",
       "      <td>0.555421</td>\n",
       "      <td>0.800367</td>\n",
       "    </tr>\n",
       "    <tr>\n",
       "      <th>1</th>\n",
       "      <td>0.420044</td>\n",
       "      <td>0.847233</td>\n",
       "    </tr>\n",
       "    <tr>\n",
       "      <th>2</th>\n",
       "      <td>0.386727</td>\n",
       "      <td>0.860167</td>\n",
       "    </tr>\n",
       "    <tr>\n",
       "      <th>3</th>\n",
       "      <td>0.368435</td>\n",
       "      <td>0.868050</td>\n",
       "    </tr>\n",
       "    <tr>\n",
       "      <th>4</th>\n",
       "      <td>0.355618</td>\n",
       "      <td>0.872317</td>\n",
       "    </tr>\n",
       "    <tr>\n",
       "      <th>5</th>\n",
       "      <td>0.343593</td>\n",
       "      <td>0.876200</td>\n",
       "    </tr>\n",
       "    <tr>\n",
       "      <th>6</th>\n",
       "      <td>0.336033</td>\n",
       "      <td>0.879400</td>\n",
       "    </tr>\n",
       "    <tr>\n",
       "      <th>7</th>\n",
       "      <td>0.329296</td>\n",
       "      <td>0.881483</td>\n",
       "    </tr>\n",
       "    <tr>\n",
       "      <th>8</th>\n",
       "      <td>0.324430</td>\n",
       "      <td>0.883233</td>\n",
       "    </tr>\n",
       "    <tr>\n",
       "      <th>9</th>\n",
       "      <td>0.315902</td>\n",
       "      <td>0.886117</td>\n",
       "    </tr>\n",
       "    <tr>\n",
       "      <th>10</th>\n",
       "      <td>0.312304</td>\n",
       "      <td>0.887433</td>\n",
       "    </tr>\n",
       "    <tr>\n",
       "      <th>11</th>\n",
       "      <td>0.308546</td>\n",
       "      <td>0.889600</td>\n",
       "    </tr>\n",
       "    <tr>\n",
       "      <th>12</th>\n",
       "      <td>0.304804</td>\n",
       "      <td>0.890167</td>\n",
       "    </tr>\n",
       "    <tr>\n",
       "      <th>13</th>\n",
       "      <td>0.296931</td>\n",
       "      <td>0.893117</td>\n",
       "    </tr>\n",
       "    <tr>\n",
       "      <th>14</th>\n",
       "      <td>0.299785</td>\n",
       "      <td>0.893633</td>\n",
       "    </tr>\n",
       "    <tr>\n",
       "      <th>15</th>\n",
       "      <td>0.294925</td>\n",
       "      <td>0.893967</td>\n",
       "    </tr>\n",
       "    <tr>\n",
       "      <th>16</th>\n",
       "      <td>0.292529</td>\n",
       "      <td>0.894450</td>\n",
       "    </tr>\n",
       "    <tr>\n",
       "      <th>17</th>\n",
       "      <td>0.290788</td>\n",
       "      <td>0.894983</td>\n",
       "    </tr>\n",
       "    <tr>\n",
       "      <th>18</th>\n",
       "      <td>0.291344</td>\n",
       "      <td>0.895700</td>\n",
       "    </tr>\n",
       "    <tr>\n",
       "      <th>19</th>\n",
       "      <td>0.287917</td>\n",
       "      <td>0.897400</td>\n",
       "    </tr>\n",
       "  </tbody>\n",
       "</table>\n",
       "</div>"
      ],
      "text/plain": [
       "        loss  accuracy\n",
       "0   0.555421  0.800367\n",
       "1   0.420044  0.847233\n",
       "2   0.386727  0.860167\n",
       "3   0.368435  0.868050\n",
       "4   0.355618  0.872317\n",
       "5   0.343593  0.876200\n",
       "6   0.336033  0.879400\n",
       "7   0.329296  0.881483\n",
       "8   0.324430  0.883233\n",
       "9   0.315902  0.886117\n",
       "10  0.312304  0.887433\n",
       "11  0.308546  0.889600\n",
       "12  0.304804  0.890167\n",
       "13  0.296931  0.893117\n",
       "14  0.299785  0.893633\n",
       "15  0.294925  0.893967\n",
       "16  0.292529  0.894450\n",
       "17  0.290788  0.894983\n",
       "18  0.291344  0.895700\n",
       "19  0.287917  0.897400"
      ]
     },
     "execution_count": 12,
     "metadata": {},
     "output_type": "execute_result"
    }
   ],
   "source": [
    "# Convert the history attributes dictionary to a dataframe\n",
    "history_df = pd.DataFrame(history.history)\n",
    "history_df"
   ]
  },
  {
   "cell_type": "code",
   "execution_count": 13,
   "metadata": {},
   "outputs": [
    {
     "data": {
      "image/png": "[encoded data removed]",
      "text/plain": [
       "<Figure size 432x288 with 1 Axes>"
      ]
     },
     "metadata": {
      "needs_background": "light"
     },
     "output_type": "display_data"
    }
   ],
   "source": [
    "# Plot the loss\n",
    "plt.figure(2)\n",
    "plt.plot(history_df.loss)\n",
    "plt.show()"
   ]
  },
  {
   "cell_type": "code",
   "execution_count": 14,
   "metadata": {},
   "outputs": [
    {
     "name": "stdout",
     "output_type": "stream",
     "text": [
      "313/313 [==============================] - 0s 502us/step - loss: 0.3919 - accuracy: 0.8663\n"
     ]
    }
   ],
   "source": [
    "# Test the performance of the feedforward model on the test dataset\n",
    "_, acc_ff = model.evaluate(test_images[..., np.newaxis], test_labels)"
   ]
  },
  {
   "cell_type": "markdown",
   "metadata": {},
   "source": [
    "# Using Convolutional layers"
   ]
  },
  {
   "cell_type": "code",
   "execution_count": 15,
   "metadata": {},
   "outputs": [],
   "source": [
    "from tensorflow.keras.layers import Conv2D, MaxPooling2D"
   ]
  },
  {
   "cell_type": "code",
   "execution_count": 16,
   "metadata": {},
   "outputs": [],
   "source": [
    "# Define the CNN model\n",
    "model_cnn = Sequential([\n",
    "    Conv2D(16, (3, 3), activation=\"relu\", input_shape=(28, 28, 1)),\n",
    "    MaxPooling2D((3, 3)),\n",
    "    Flatten(),\n",
    "    Dense(64, activation=\"relu\"),\n",
    "    Dense(64, activation=\"relu\"),\n",
    "    Dense(10, activation=\"softmax\")\n",
    "])"
   ]
  },
  {
   "cell_type": "code",
   "execution_count": 17,
   "metadata": {},
   "outputs": [
    {
     "name": "stdout",
     "output_type": "stream",
     "text": [
      "Model: \"sequential_1\"\n",
      "_________________________________________________________________\n",
      "Layer (type)                 Output Shape              Param #   \n",
      "=================================================================\n",
      "conv2d (Conv2D)              (None, 26, 26, 16)        160       \n",
      "_________________________________________________________________\n",
      "max_pooling2d (MaxPooling2D) (None, 8, 8, 16)          0         \n",
      "_________________________________________________________________\n",
      "flatten_1 (Flatten)          (None, 1024)              0         \n",
      "_________________________________________________________________\n",
      "dense (Dense)                (None, 64)                65600     \n",
      "_________________________________________________________________\n",
      "dense_1 (Dense)              (None, 64)                4160      \n",
      "_________________________________________________________________\n",
      "dense_2 (Dense)              (None, 10)                650       \n",
      "=================================================================\n",
      "Total params: 70,570\n",
      "Trainable params: 70,570\n",
      "Non-trainable params: 0\n",
      "_________________________________________________________________\n"
     ]
    }
   ],
   "source": [
    "# Print model summary\n",
    "model_cnn.summary()"
   ]
  },
  {
   "cell_type": "code",
   "execution_count": 18,
   "metadata": {},
   "outputs": [],
   "source": [
    "# Define the optimizer\n",
    "opt = tf.keras.optimizers.Adam(learning_rate=0.005)\n",
    "\n",
    "# Compile the model\n",
    "model_cnn.compile(optimizer=opt,\n",
    "             loss=\"sparse_categorical_crossentropy\",\n",
    "             metrics=[\"accuracy\"])"
   ]
  },
  {
   "cell_type": "code",
   "execution_count": 19,
   "metadata": {},
   "outputs": [
    {
     "name": "stdout",
     "output_type": "stream",
     "text": [
      "Epoch 1/20\n",
      "1875/1875 [==============================] - 6s 3ms/step - loss: 0.5688 - accuracy: 0.7894\n",
      "Epoch 2/20\n",
      "1875/1875 [==============================] - 6s 3ms/step - loss: 0.3189 - accuracy: 0.8821\n",
      "Epoch 3/20\n",
      "1875/1875 [==============================] - 6s 3ms/step - loss: 0.2842 - accuracy: 0.8948\n",
      "Epoch 4/20\n",
      "1875/1875 [==============================] - 6s 3ms/step - loss: 0.2620 - accuracy: 0.9006\n",
      "Epoch 5/20\n",
      "1875/1875 [==============================] - 6s 3ms/step - loss: 0.2481 - accuracy: 0.9065\n",
      "Epoch 6/20\n",
      "1875/1875 [==============================] - 6s 3ms/step - loss: 0.2370 - accuracy: 0.9112\n",
      "Epoch 7/20\n",
      "1875/1875 [==============================] - 6s 3ms/step - loss: 0.2254 - accuracy: 0.9138\n",
      "Epoch 8/20\n",
      "1875/1875 [==============================] - 6s 3ms/step - loss: 0.2178 - accuracy: 0.9198\n",
      "Epoch 9/20\n",
      "1875/1875 [==============================] - 6s 3ms/step - loss: 0.2138 - accuracy: 0.9202\n",
      "Epoch 10/20\n",
      "1875/1875 [==============================] - 6s 3ms/step - loss: 0.2027 - accuracy: 0.9226\n",
      "Epoch 11/20\n",
      "1875/1875 [==============================] - 6s 3ms/step - loss: 0.1941 - accuracy: 0.9273\n",
      "Epoch 12/20\n",
      "1875/1875 [==============================] - 6s 3ms/step - loss: 0.1918 - accuracy: 0.9284\n",
      "Epoch 13/20\n",
      "1875/1875 [==============================] - 6s 3ms/step - loss: 0.1894 - accuracy: 0.9272\n",
      "Epoch 14/20\n",
      "1875/1875 [==============================] - 6s 3ms/step - loss: 0.1825 - accuracy: 0.9311\n",
      "Epoch 15/20\n",
      "1875/1875 [==============================] - 6s 3ms/step - loss: 0.1805 - accuracy: 0.9311\n",
      "Epoch 16/20\n",
      "1875/1875 [==============================] - 6s 3ms/step - loss: 0.1746 - accuracy: 0.9341\n",
      "Epoch 17/20\n",
      "1875/1875 [==============================] - 6s 3ms/step - loss: 0.1708 - accuracy: 0.9372\n",
      "Epoch 18/20\n",
      "1875/1875 [==============================] - 6s 3ms/step - loss: 0.1721 - accuracy: 0.9349\n",
      "Epoch 19/20\n",
      "1875/1875 [==============================] - 6s 3ms/step - loss: 0.1707 - accuracy: 0.9351\n",
      "Epoch 20/20\n",
      "1875/1875 [==============================] - 6s 3ms/step - loss: 0.1693 - accuracy: 0.9372\n"
     ]
    }
   ],
   "source": [
    "# Fit the feedforward model\n",
    "history_cnn = model_cnn.fit(train_images[..., np.newaxis], train_labels,\n",
    "                            epochs=20, batch_size=32)"
   ]
  },
  {
   "cell_type": "code",
   "execution_count": 20,
   "metadata": {},
   "outputs": [
    {
     "data": {
      "text/html": [
       "<div>\n",
       "<style scoped>\n",
       "    .dataframe tbody tr th:only-of-type {\n",
       "        vertical-align: middle;\n",
       "    }\n",
       "\n",
       "    .dataframe tbody tr th {\n",
       "        vertical-align: top;\n",
       "    }\n",
       "\n",
       "    .dataframe thead th {\n",
       "        text-align: right;\n",
       "    }\n",
       "</style>\n",
       "<table border=\"1\" class=\"dataframe\">\n",
       "  <thead>\n",
       "    <tr style=\"text-align: right;\">\n",
       "      <th></th>\n",
       "      <th>loss</th>\n",
       "      <th>accuracy</th>\n",
       "    </tr>\n",
       "  </thead>\n",
       "  <tbody>\n",
       "    <tr>\n",
       "      <th>0</th>\n",
       "      <td>0.429235</td>\n",
       "      <td>0.842883</td>\n",
       "    </tr>\n",
       "    <tr>\n",
       "      <th>1</th>\n",
       "      <td>0.311262</td>\n",
       "      <td>0.884850</td>\n",
       "    </tr>\n",
       "    <tr>\n",
       "      <th>2</th>\n",
       "      <td>0.283626</td>\n",
       "      <td>0.895033</td>\n",
       "    </tr>\n",
       "    <tr>\n",
       "      <th>3</th>\n",
       "      <td>0.266355</td>\n",
       "      <td>0.900150</td>\n",
       "    </tr>\n",
       "    <tr>\n",
       "      <th>4</th>\n",
       "      <td>0.251942</td>\n",
       "      <td>0.905217</td>\n",
       "    </tr>\n",
       "    <tr>\n",
       "      <th>5</th>\n",
       "      <td>0.238544</td>\n",
       "      <td>0.911267</td>\n",
       "    </tr>\n",
       "    <tr>\n",
       "      <th>6</th>\n",
       "      <td>0.232456</td>\n",
       "      <td>0.912617</td>\n",
       "    </tr>\n",
       "    <tr>\n",
       "      <th>7</th>\n",
       "      <td>0.223223</td>\n",
       "      <td>0.917983</td>\n",
       "    </tr>\n",
       "    <tr>\n",
       "      <th>8</th>\n",
       "      <td>0.215330</td>\n",
       "      <td>0.919050</td>\n",
       "    </tr>\n",
       "    <tr>\n",
       "      <th>9</th>\n",
       "      <td>0.210471</td>\n",
       "      <td>0.920883</td>\n",
       "    </tr>\n",
       "    <tr>\n",
       "      <th>10</th>\n",
       "      <td>0.200461</td>\n",
       "      <td>0.924633</td>\n",
       "    </tr>\n",
       "    <tr>\n",
       "      <th>11</th>\n",
       "      <td>0.197388</td>\n",
       "      <td>0.925883</td>\n",
       "    </tr>\n",
       "    <tr>\n",
       "      <th>12</th>\n",
       "      <td>0.197637</td>\n",
       "      <td>0.924700</td>\n",
       "    </tr>\n",
       "    <tr>\n",
       "      <th>13</th>\n",
       "      <td>0.184955</td>\n",
       "      <td>0.930000</td>\n",
       "    </tr>\n",
       "    <tr>\n",
       "      <th>14</th>\n",
       "      <td>0.184736</td>\n",
       "      <td>0.929967</td>\n",
       "    </tr>\n",
       "    <tr>\n",
       "      <th>15</th>\n",
       "      <td>0.182145</td>\n",
       "      <td>0.931750</td>\n",
       "    </tr>\n",
       "    <tr>\n",
       "      <th>16</th>\n",
       "      <td>0.179573</td>\n",
       "      <td>0.933367</td>\n",
       "    </tr>\n",
       "    <tr>\n",
       "      <th>17</th>\n",
       "      <td>0.176452</td>\n",
       "      <td>0.933433</td>\n",
       "    </tr>\n",
       "    <tr>\n",
       "      <th>18</th>\n",
       "      <td>0.171634</td>\n",
       "      <td>0.934350</td>\n",
       "    </tr>\n",
       "    <tr>\n",
       "      <th>19</th>\n",
       "      <td>0.175816</td>\n",
       "      <td>0.935217</td>\n",
       "    </tr>\n",
       "  </tbody>\n",
       "</table>\n",
       "</div>"
      ],
      "text/plain": [
       "        loss  accuracy\n",
       "0   0.429235  0.842883\n",
       "1   0.311262  0.884850\n",
       "2   0.283626  0.895033\n",
       "3   0.266355  0.900150\n",
       "4   0.251942  0.905217\n",
       "5   0.238544  0.911267\n",
       "6   0.232456  0.912617\n",
       "7   0.223223  0.917983\n",
       "8   0.215330  0.919050\n",
       "9   0.210471  0.920883\n",
       "10  0.200461  0.924633\n",
       "11  0.197388  0.925883\n",
       "12  0.197637  0.924700\n",
       "13  0.184955  0.930000\n",
       "14  0.184736  0.929967\n",
       "15  0.182145  0.931750\n",
       "16  0.179573  0.933367\n",
       "17  0.176452  0.933433\n",
       "18  0.171634  0.934350\n",
       "19  0.175816  0.935217"
      ]
     },
     "execution_count": 20,
     "metadata": {},
     "output_type": "execute_result"
    }
   ],
   "source": [
    "# Convert the history attributes dictionary to a dataframe\n",
    "history_df_cnn = pd.DataFrame(history_cnn.history)\n",
    "history_df_cnn"
   ]
  },
  {
   "cell_type": "code",
   "execution_count": 21,
   "metadata": {},
   "outputs": [
    {
     "data": {
      "image/png": "[encoded data removed]",
      "text/plain": [
       "<Figure size 432x288 with 1 Axes>"
      ]
     },
     "metadata": {
      "needs_background": "light"
     },
     "output_type": "display_data"
    }
   ],
   "source": [
    "# Plot the loss\n",
    "plt.figure(2)\n",
    "plt.plot(history_cnn.history['loss'])\n",
    "plt.show()"
   ]
  },
  {
   "cell_type": "code",
   "execution_count": 22,
   "metadata": {},
   "outputs": [
    {
     "name": "stdout",
     "output_type": "stream",
     "text": [
      "313/313 [==============================] - 0s 1ms/step - loss: 0.3980 - accuracy: 0.8909\n"
     ]
    }
   ],
   "source": [
    "# Test the performance of the CNN model on the test dataset\n",
    "_, acc_cnn = model_cnn.evaluate(test_images[..., np.newaxis], test_labels)"
   ]
  },
  {
   "cell_type": "markdown",
   "metadata": {},
   "source": [
    "# Test performance of the feedforward model vs. CNN model"
   ]
  },
  {
   "cell_type": "code",
   "execution_count": 23,
   "metadata": {},
   "outputs": [
    {
     "name": "stdout",
     "output_type": "stream",
     "text": [
      "\n",
      "The test accuracy of the feedforward model is:  0.8662999868392944\n",
      "The test accuracy of the CNN model is:  0.8909000158309937\n"
     ]
    }
   ],
   "source": [
    "print(\"\\nThe test accuracy of the feedforward model is: \", acc_ff)\n",
    "print(\"The test accuracy of the CNN model is: \", acc_cnn)"
   ]
  },
  {
   "cell_type": "code",
   "execution_count": null,
   "metadata": {},
   "outputs": [],
   "source": []
  }
 ],
 "metadata": {
  "kernelspec": {
   "display_name": "Python 3",
   "language": "python",
   "name": "python3"
  },
  "language_info": {
   "codemirror_mode": {
    "name": "ipython",
    "version": 3
   },
   "file_extension": ".py",
   "mimetype": "text/x-python",
   "name": "python",
   "nbconvert_exporter": "python",
   "pygments_lexer": "ipython3",
   "version": "3.7.3"
  }
 },
 "nbformat": 4,
 "nbformat_minor": 2
}
