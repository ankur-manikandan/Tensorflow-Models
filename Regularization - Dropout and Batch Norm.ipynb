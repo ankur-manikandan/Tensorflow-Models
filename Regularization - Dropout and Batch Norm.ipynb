{
 "cells": [
  {
   "cell_type": "code",
   "execution_count": 33,
   "metadata": {},
   "outputs": [],
   "source": [
    "%matplotlib inline\n",
    "\n",
    "import numpy as np\n",
    "import matplotlib.pyplot as plt\n",
    "\n",
    "from sklearn.datasets import load_diabetes\n",
    "from sklearn.model_selection import train_test_split\n",
    "\n",
    "import tensorflow as tf\n",
    "from tensorflow.keras.models import Sequential\n",
    "from tensorflow.keras.layers import Dense, Dropout, BatchNormalization\n",
    "from tensorflow.keras import regularizers"
   ]
  },
  {
   "cell_type": "code",
   "execution_count": 8,
   "metadata": {},
   "outputs": [
    {
     "name": "stdout",
     "output_type": "stream",
     "text": [
      "dict_keys(['data', 'target', 'DESCR', 'feature_names', 'data_filename', 'target_filename'])\n"
     ]
    }
   ],
   "source": [
    "# Load the diabetes dataset\n",
    "diabetes_dataset = load_diabetes()\n",
    "print(diabetes_dataset.keys())"
   ]
  },
  {
   "cell_type": "code",
   "execution_count": 9,
   "metadata": {},
   "outputs": [],
   "source": [
    "# Assign variables to store the data and the targets\n",
    "data = diabetes_dataset['data']\n",
    "targets = diabetes_dataset['target']"
   ]
  },
  {
   "cell_type": "code",
   "execution_count": 10,
   "metadata": {},
   "outputs": [
    {
     "data": {
      "image/png": "[encoded data removed]",
      "text/plain": [
       "<Figure size 432x288 with 1 Axes>"
      ]
     },
     "metadata": {
      "needs_background": "light"
     },
     "output_type": "display_data"
    }
   ],
   "source": [
    "plt.figure(1)\n",
    "plt.hist(targets, bins=50)\n",
    "plt.show()"
   ]
  },
  {
   "cell_type": "code",
   "execution_count": 11,
   "metadata": {},
   "outputs": [],
   "source": [
    "# Normalise the target data (this will make clearer training curves)\n",
    "targets = (targets - targets.mean(axis=0)) / targets.std()"
   ]
  },
  {
   "cell_type": "code",
   "execution_count": 12,
   "metadata": {},
   "outputs": [
    {
     "data": {
      "image/png": "[encoded data removed]",
      "text/plain": [
       "<Figure size 432x288 with 1 Axes>"
      ]
     },
     "metadata": {
      "needs_background": "light"
     },
     "output_type": "display_data"
    }
   ],
   "source": [
    "plt.figure(2)\n",
    "plt.hist(targets, bins=50)\n",
    "plt.show()"
   ]
  },
  {
   "cell_type": "code",
   "execution_count": 15,
   "metadata": {},
   "outputs": [],
   "source": [
    "# Split the data into train and test sets\n",
    "train_data, test_data, train_targets, test_targets = train_test_split(\n",
    "    data, targets, test_size=0.1)"
   ]
  },
  {
   "cell_type": "code",
   "execution_count": 17,
   "metadata": {},
   "outputs": [],
   "source": [
    "# Define a feedforward neural network\n",
    "model = Sequential([\n",
    "    Dense(128, activation=\"relu\", input_shape=(train_data.shape[1], )),\n",
    "    Dense(128, activation=\"relu\"),\n",
    "    Dense(128, activation=\"relu\"),\n",
    "    Dense(128, activation=\"relu\"),\n",
    "    Dense(128, activation=\"relu\"),\n",
    "    Dense(128, activation=\"relu\"),\n",
    "    Dense(1)\n",
    "])"
   ]
  },
  {
   "cell_type": "code",
   "execution_count": 18,
   "metadata": {},
   "outputs": [
    {
     "name": "stdout",
     "output_type": "stream",
     "text": [
      "Model: \"sequential\"\n",
      "_________________________________________________________________\n",
      "Layer (type)                 Output Shape              Param #   \n",
      "=================================================================\n",
      "dense (Dense)                (None, 128)               1408      \n",
      "_________________________________________________________________\n",
      "dense_1 (Dense)              (None, 128)               16512     \n",
      "_________________________________________________________________\n",
      "dense_2 (Dense)              (None, 128)               16512     \n",
      "_________________________________________________________________\n",
      "dense_3 (Dense)              (None, 128)               16512     \n",
      "_________________________________________________________________\n",
      "dense_4 (Dense)              (None, 128)               16512     \n",
      "_________________________________________________________________\n",
      "dense_5 (Dense)              (None, 128)               16512     \n",
      "_________________________________________________________________\n",
      "dense_6 (Dense)              (None, 1)                 129       \n",
      "=================================================================\n",
      "Total params: 84,097\n",
      "Trainable params: 84,097\n",
      "Non-trainable params: 0\n",
      "_________________________________________________________________\n"
     ]
    }
   ],
   "source": [
    "# Print the model summary\n",
    "model.summary()"
   ]
  },
  {
   "cell_type": "code",
   "execution_count": 19,
   "metadata": {},
   "outputs": [],
   "source": [
    "# Compile the model\n",
    "model.compile(optimizer=\"adam\",\n",
    "             loss=\"mse\",\n",
    "             metrics=[\"mae\"])"
   ]
  },
  {
   "cell_type": "code",
   "execution_count": 20,
   "metadata": {},
   "outputs": [
    {
     "name": "stdout",
     "output_type": "stream",
     "text": [
      "Epoch 1/100\n",
      "6/6 [==============================] - 0s 35ms/step - loss: 0.9999 - mae: 0.8567 - val_loss: 0.7345 - val_mae: 0.7185\n",
      "Epoch 2/100\n",
      "6/6 [==============================] - 0s 7ms/step - loss: 0.9360 - mae: 0.8275 - val_loss: 0.6714 - val_mae: 0.6934\n",
      "Epoch 3/100\n",
      "6/6 [==============================] - 0s 6ms/step - loss: 0.7780 - mae: 0.7448 - val_loss: 0.7074 - val_mae: 0.6993\n",
      "Epoch 4/100\n",
      "6/6 [==============================] - 0s 6ms/step - loss: 0.5327 - mae: 0.5883 - val_loss: 0.8073 - val_mae: 0.7461\n",
      "Epoch 5/100\n",
      "6/6 [==============================] - 0s 6ms/step - loss: 0.4996 - mae: 0.5564 - val_loss: 0.7139 - val_mae: 0.7299\n",
      "Epoch 6/100\n",
      "6/6 [==============================] - 0s 6ms/step - loss: 0.4683 - mae: 0.5645 - val_loss: 0.6381 - val_mae: 0.6255\n",
      "Epoch 7/100\n",
      "6/6 [==============================] - 0s 6ms/step - loss: 0.4229 - mae: 0.5094 - val_loss: 0.6768 - val_mae: 0.6592\n",
      "Epoch 8/100\n",
      "6/6 [==============================] - 0s 7ms/step - loss: 0.4413 - mae: 0.5283 - val_loss: 0.6586 - val_mae: 0.6660\n",
      "Epoch 9/100\n",
      "6/6 [==============================] - 0s 6ms/step - loss: 0.4259 - mae: 0.5252 - val_loss: 0.6261 - val_mae: 0.6446\n",
      "Epoch 10/100\n",
      "6/6 [==============================] - 0s 6ms/step - loss: 0.4338 - mae: 0.5258 - val_loss: 0.6765 - val_mae: 0.6861\n",
      "Epoch 11/100\n",
      "6/6 [==============================] - 0s 6ms/step - loss: 0.3749 - mae: 0.4897 - val_loss: 0.6644 - val_mae: 0.6514\n",
      "Epoch 12/100\n",
      "6/6 [==============================] - 0s 6ms/step - loss: 0.4517 - mae: 0.5373 - val_loss: 0.6664 - val_mae: 0.6750\n",
      "Epoch 13/100\n",
      "6/6 [==============================] - 0s 6ms/step - loss: 0.3789 - mae: 0.4947 - val_loss: 0.6520 - val_mae: 0.6623\n",
      "Epoch 14/100\n",
      "6/6 [==============================] - 0s 6ms/step - loss: 0.3937 - mae: 0.5030 - val_loss: 0.6889 - val_mae: 0.6619\n",
      "Epoch 15/100\n",
      "6/6 [==============================] - 0s 6ms/step - loss: 0.3905 - mae: 0.4859 - val_loss: 0.7460 - val_mae: 0.7158\n",
      "Epoch 16/100\n",
      "6/6 [==============================] - 0s 7ms/step - loss: 0.3993 - mae: 0.5041 - val_loss: 0.6699 - val_mae: 0.6556\n",
      "Epoch 17/100\n",
      "6/6 [==============================] - 0s 7ms/step - loss: 0.3645 - mae: 0.4783 - val_loss: 0.7283 - val_mae: 0.7108\n",
      "Epoch 18/100\n",
      "6/6 [==============================] - 0s 7ms/step - loss: 0.4082 - mae: 0.5107 - val_loss: 0.7005 - val_mae: 0.6679\n",
      "Epoch 19/100\n",
      "6/6 [==============================] - 0s 6ms/step - loss: 0.3599 - mae: 0.4671 - val_loss: 0.7340 - val_mae: 0.7015\n",
      "Epoch 20/100\n",
      "6/6 [==============================] - 0s 20ms/step - loss: 0.3424 - mae: 0.4700 - val_loss: 0.6920 - val_mae: 0.6701\n",
      "Epoch 21/100\n",
      "6/6 [==============================] - 0s 6ms/step - loss: 0.3658 - mae: 0.4760 - val_loss: 0.6892 - val_mae: 0.6814\n",
      "Epoch 22/100\n",
      "6/6 [==============================] - 0s 8ms/step - loss: 0.3437 - mae: 0.4707 - val_loss: 0.7496 - val_mae: 0.6976\n",
      "Epoch 23/100\n",
      "6/6 [==============================] - 0s 7ms/step - loss: 0.3279 - mae: 0.4442 - val_loss: 0.7050 - val_mae: 0.6722\n",
      "Epoch 24/100\n",
      "6/6 [==============================] - 0s 6ms/step - loss: 0.3529 - mae: 0.4698 - val_loss: 0.7455 - val_mae: 0.7103\n",
      "Epoch 25/100\n",
      "6/6 [==============================] - 0s 6ms/step - loss: 0.3574 - mae: 0.4840 - val_loss: 0.7113 - val_mae: 0.6721\n",
      "Epoch 26/100\n",
      "6/6 [==============================] - 0s 6ms/step - loss: 0.3264 - mae: 0.4471 - val_loss: 0.7854 - val_mae: 0.7328\n",
      "Epoch 27/100\n",
      "6/6 [==============================] - 0s 6ms/step - loss: 0.3201 - mae: 0.4478 - val_loss: 0.7232 - val_mae: 0.6805\n",
      "Epoch 28/100\n",
      "6/6 [==============================] - 0s 6ms/step - loss: 0.3027 - mae: 0.4348 - val_loss: 0.8307 - val_mae: 0.7412\n",
      "Epoch 29/100\n",
      "6/6 [==============================] - 0s 6ms/step - loss: 0.3339 - mae: 0.4583 - val_loss: 0.7719 - val_mae: 0.7106\n",
      "Epoch 30/100\n",
      "6/6 [==============================] - 0s 6ms/step - loss: 0.2994 - mae: 0.4375 - val_loss: 0.8104 - val_mae: 0.7220\n",
      "Epoch 31/100\n",
      "6/6 [==============================] - 0s 6ms/step - loss: 0.2917 - mae: 0.4219 - val_loss: 0.8193 - val_mae: 0.7301\n",
      "Epoch 32/100\n",
      "6/6 [==============================] - 0s 7ms/step - loss: 0.2641 - mae: 0.4027 - val_loss: 0.8430 - val_mae: 0.7379\n",
      "Epoch 33/100\n",
      "6/6 [==============================] - 0s 7ms/step - loss: 0.3014 - mae: 0.4347 - val_loss: 0.7810 - val_mae: 0.6982\n",
      "Epoch 34/100\n",
      "6/6 [==============================] - 0s 7ms/step - loss: 0.2926 - mae: 0.4324 - val_loss: 0.8360 - val_mae: 0.7335\n",
      "Epoch 35/100\n",
      "6/6 [==============================] - 0s 7ms/step - loss: 0.2593 - mae: 0.4014 - val_loss: 0.8460 - val_mae: 0.7353\n",
      "Epoch 36/100\n",
      "6/6 [==============================] - 0s 7ms/step - loss: 0.2570 - mae: 0.3868 - val_loss: 1.1028 - val_mae: 0.8515\n",
      "Epoch 37/100\n",
      "6/6 [==============================] - 0s 7ms/step - loss: 0.3246 - mae: 0.4509 - val_loss: 0.7748 - val_mae: 0.7037\n",
      "Epoch 38/100\n",
      "6/6 [==============================] - 0s 7ms/step - loss: 0.2533 - mae: 0.3994 - val_loss: 0.7963 - val_mae: 0.7121\n",
      "Epoch 39/100\n",
      "6/6 [==============================] - 0s 6ms/step - loss: 0.2639 - mae: 0.3961 - val_loss: 0.9169 - val_mae: 0.7659\n",
      "Epoch 40/100\n",
      "6/6 [==============================] - 0s 6ms/step - loss: 0.2701 - mae: 0.4061 - val_loss: 0.9318 - val_mae: 0.7791\n",
      "Epoch 41/100\n",
      "6/6 [==============================] - 0s 6ms/step - loss: 0.2406 - mae: 0.3844 - val_loss: 0.8374 - val_mae: 0.7248\n",
      "Epoch 42/100\n",
      "6/6 [==============================] - 0s 6ms/step - loss: 0.2029 - mae: 0.3514 - val_loss: 0.8805 - val_mae: 0.7444\n",
      "Epoch 43/100\n",
      "6/6 [==============================] - 0s 6ms/step - loss: 0.1986 - mae: 0.3492 - val_loss: 0.8643 - val_mae: 0.7390\n",
      "Epoch 44/100\n",
      "6/6 [==============================] - 0s 6ms/step - loss: 0.1953 - mae: 0.3412 - val_loss: 0.8916 - val_mae: 0.7456\n",
      "Epoch 45/100\n",
      "6/6 [==============================] - 0s 6ms/step - loss: 0.2166 - mae: 0.3603 - val_loss: 0.8891 - val_mae: 0.7484\n",
      "Epoch 46/100\n",
      "6/6 [==============================] - 0s 6ms/step - loss: 0.1731 - mae: 0.3123 - val_loss: 1.0962 - val_mae: 0.8301\n",
      "Epoch 47/100\n",
      "6/6 [==============================] - 0s 9ms/step - loss: 0.1983 - mae: 0.3432 - val_loss: 0.9759 - val_mae: 0.7730\n",
      "Epoch 48/100\n",
      "6/6 [==============================] - 0s 8ms/step - loss: 0.1903 - mae: 0.3441 - val_loss: 0.8917 - val_mae: 0.7456\n",
      "Epoch 49/100\n",
      "6/6 [==============================] - 0s 7ms/step - loss: 0.1828 - mae: 0.3310 - val_loss: 0.9213 - val_mae: 0.7523\n",
      "Epoch 50/100\n",
      "6/6 [==============================] - 0s 7ms/step - loss: 0.1608 - mae: 0.3121 - val_loss: 0.9461 - val_mae: 0.7587\n",
      "Epoch 51/100\n",
      "6/6 [==============================] - 0s 7ms/step - loss: 0.1767 - mae: 0.3271 - val_loss: 0.9158 - val_mae: 0.7437\n",
      "Epoch 52/100\n",
      "6/6 [==============================] - 0s 7ms/step - loss: 0.2155 - mae: 0.3575 - val_loss: 0.9098 - val_mae: 0.7554\n",
      "Epoch 53/100\n",
      "6/6 [==============================] - 0s 7ms/step - loss: 0.2138 - mae: 0.3549 - val_loss: 0.9037 - val_mae: 0.7401\n",
      "Epoch 54/100\n",
      "6/6 [==============================] - 0s 7ms/step - loss: 0.1855 - mae: 0.3225 - val_loss: 1.0364 - val_mae: 0.7942\n",
      "Epoch 55/100\n",
      "6/6 [==============================] - 0s 6ms/step - loss: 0.1758 - mae: 0.3395 - val_loss: 1.0271 - val_mae: 0.7842\n",
      "Epoch 56/100\n",
      "6/6 [==============================] - 0s 6ms/step - loss: 0.1703 - mae: 0.3347 - val_loss: 0.9647 - val_mae: 0.7623\n",
      "Epoch 57/100\n",
      "6/6 [==============================] - 0s 6ms/step - loss: 0.1328 - mae: 0.2862 - val_loss: 0.9124 - val_mae: 0.7446\n",
      "Epoch 58/100\n",
      "6/6 [==============================] - 0s 6ms/step - loss: 0.1223 - mae: 0.2726 - val_loss: 1.0064 - val_mae: 0.7768\n",
      "Epoch 59/100\n",
      "6/6 [==============================] - 0s 19ms/step - loss: 0.1168 - mae: 0.2677 - val_loss: 1.0890 - val_mae: 0.8012\n",
      "Epoch 60/100\n",
      "6/6 [==============================] - 0s 6ms/step - loss: 0.1218 - mae: 0.2753 - val_loss: 1.1517 - val_mae: 0.8158\n",
      "Epoch 61/100\n",
      "6/6 [==============================] - 0s 6ms/step - loss: 0.1104 - mae: 0.2632 - val_loss: 1.0492 - val_mae: 0.7919\n",
      "Epoch 62/100\n",
      "6/6 [==============================] - 0s 6ms/step - loss: 0.1391 - mae: 0.2985 - val_loss: 0.9882 - val_mae: 0.7598\n",
      "Epoch 63/100\n",
      "6/6 [==============================] - 0s 6ms/step - loss: 0.1044 - mae: 0.2602 - val_loss: 1.0618 - val_mae: 0.7689\n",
      "Epoch 64/100\n"
     ]
    },
    {
     "name": "stdout",
     "output_type": "stream",
     "text": [
      "6/6 [==============================] - 0s 6ms/step - loss: 0.1315 - mae: 0.2903 - val_loss: 0.9447 - val_mae: 0.7384\n",
      "Epoch 65/100\n",
      "6/6 [==============================] - 0s 6ms/step - loss: 0.0971 - mae: 0.2446 - val_loss: 0.9897 - val_mae: 0.7630\n",
      "Epoch 66/100\n",
      "6/6 [==============================] - 0s 6ms/step - loss: 0.0852 - mae: 0.2371 - val_loss: 1.0477 - val_mae: 0.7873\n",
      "Epoch 67/100\n",
      "6/6 [==============================] - 0s 6ms/step - loss: 0.0856 - mae: 0.2235 - val_loss: 0.9706 - val_mae: 0.7606\n",
      "Epoch 68/100\n",
      "6/6 [==============================] - 0s 6ms/step - loss: 0.0854 - mae: 0.2287 - val_loss: 1.0908 - val_mae: 0.8025\n",
      "Epoch 69/100\n",
      "6/6 [==============================] - 0s 6ms/step - loss: 0.0719 - mae: 0.2081 - val_loss: 1.0190 - val_mae: 0.7628\n",
      "Epoch 70/100\n",
      "6/6 [==============================] - 0s 6ms/step - loss: 0.0733 - mae: 0.2089 - val_loss: 1.0998 - val_mae: 0.8148\n",
      "Epoch 71/100\n",
      "6/6 [==============================] - 0s 6ms/step - loss: 0.0686 - mae: 0.1979 - val_loss: 1.0810 - val_mae: 0.8023\n",
      "Epoch 72/100\n",
      "6/6 [==============================] - 0s 6ms/step - loss: 0.0771 - mae: 0.2072 - val_loss: 1.0791 - val_mae: 0.8017\n",
      "Epoch 73/100\n",
      "6/6 [==============================] - 0s 6ms/step - loss: 0.0662 - mae: 0.1898 - val_loss: 1.0021 - val_mae: 0.7751\n",
      "Epoch 74/100\n",
      "6/6 [==============================] - 0s 6ms/step - loss: 0.0670 - mae: 0.1950 - val_loss: 0.9965 - val_mae: 0.7707\n",
      "Epoch 75/100\n",
      "6/6 [==============================] - 0s 6ms/step - loss: 0.0568 - mae: 0.1789 - val_loss: 1.0855 - val_mae: 0.8086\n",
      "Epoch 76/100\n",
      "6/6 [==============================] - 0s 7ms/step - loss: 0.0664 - mae: 0.1949 - val_loss: 1.0636 - val_mae: 0.7881\n",
      "Epoch 77/100\n",
      "6/6 [==============================] - 0s 6ms/step - loss: 0.0643 - mae: 0.1998 - val_loss: 1.0871 - val_mae: 0.8016\n",
      "Epoch 78/100\n",
      "6/6 [==============================] - 0s 6ms/step - loss: 0.0571 - mae: 0.1826 - val_loss: 0.9986 - val_mae: 0.7807\n",
      "Epoch 79/100\n",
      "6/6 [==============================] - 0s 6ms/step - loss: 0.0652 - mae: 0.1992 - val_loss: 1.0185 - val_mae: 0.7905\n",
      "Epoch 80/100\n",
      "6/6 [==============================] - 0s 6ms/step - loss: 0.0865 - mae: 0.2350 - val_loss: 1.0288 - val_mae: 0.7899\n",
      "Epoch 81/100\n",
      "6/6 [==============================] - 0s 6ms/step - loss: 0.0608 - mae: 0.1922 - val_loss: 1.1693 - val_mae: 0.8253\n",
      "Epoch 82/100\n",
      "6/6 [==============================] - 0s 6ms/step - loss: 0.0926 - mae: 0.2407 - val_loss: 1.2799 - val_mae: 0.8605\n",
      "Epoch 83/100\n",
      "6/6 [==============================] - 0s 6ms/step - loss: 0.1312 - mae: 0.2882 - val_loss: 1.2325 - val_mae: 0.8464\n",
      "Epoch 84/100\n",
      "6/6 [==============================] - 0s 6ms/step - loss: 0.1184 - mae: 0.2717 - val_loss: 1.0772 - val_mae: 0.7900\n",
      "Epoch 85/100\n",
      "6/6 [==============================] - 0s 6ms/step - loss: 0.1191 - mae: 0.2762 - val_loss: 1.1519 - val_mae: 0.8214\n",
      "Epoch 86/100\n",
      "6/6 [==============================] - 0s 6ms/step - loss: 0.0956 - mae: 0.2338 - val_loss: 0.9776 - val_mae: 0.7661\n",
      "Epoch 87/100\n",
      "6/6 [==============================] - 0s 6ms/step - loss: 0.0806 - mae: 0.2211 - val_loss: 1.0842 - val_mae: 0.8006\n",
      "Epoch 88/100\n",
      "6/6 [==============================] - 0s 6ms/step - loss: 0.0785 - mae: 0.2161 - val_loss: 0.9833 - val_mae: 0.7641\n",
      "Epoch 89/100\n",
      "6/6 [==============================] - 0s 6ms/step - loss: 0.0717 - mae: 0.2038 - val_loss: 0.9974 - val_mae: 0.7690\n",
      "Epoch 90/100\n",
      "6/6 [==============================] - 0s 6ms/step - loss: 0.0738 - mae: 0.2132 - val_loss: 1.0076 - val_mae: 0.7690\n",
      "Epoch 91/100\n",
      "6/6 [==============================] - 0s 6ms/step - loss: 0.0593 - mae: 0.1967 - val_loss: 1.0625 - val_mae: 0.7930\n",
      "Epoch 92/100\n",
      "6/6 [==============================] - 0s 6ms/step - loss: 0.0489 - mae: 0.1652 - val_loss: 1.0365 - val_mae: 0.7796\n",
      "Epoch 93/100\n",
      "6/6 [==============================] - 0s 6ms/step - loss: 0.0460 - mae: 0.1565 - val_loss: 1.0785 - val_mae: 0.8003\n",
      "Epoch 94/100\n",
      "6/6 [==============================] - 0s 6ms/step - loss: 0.0418 - mae: 0.1564 - val_loss: 1.0590 - val_mae: 0.7904\n",
      "Epoch 95/100\n",
      "6/6 [==============================] - 0s 6ms/step - loss: 0.0334 - mae: 0.1305 - val_loss: 1.0228 - val_mae: 0.7788\n",
      "Epoch 96/100\n",
      "6/6 [==============================] - 0s 6ms/step - loss: 0.0337 - mae: 0.1384 - val_loss: 1.0806 - val_mae: 0.7993\n",
      "Epoch 97/100\n",
      "6/6 [==============================] - 0s 6ms/step - loss: 0.0322 - mae: 0.1307 - val_loss: 1.0856 - val_mae: 0.7941\n",
      "Epoch 98/100\n",
      "6/6 [==============================] - 0s 20ms/step - loss: 0.0326 - mae: 0.1268 - val_loss: 1.0684 - val_mae: 0.7961\n",
      "Epoch 99/100\n",
      "6/6 [==============================] - 0s 7ms/step - loss: 0.0283 - mae: 0.1222 - val_loss: 1.0905 - val_mae: 0.7895\n",
      "Epoch 100/100\n",
      "6/6 [==============================] - 0s 7ms/step - loss: 0.0256 - mae: 0.1140 - val_loss: 1.0942 - val_mae: 0.7976\n"
     ]
    }
   ],
   "source": [
    "# Train the model, with some of the data reserved for validation\n",
    "history = model.fit(train_data, train_targets, validation_split=0.15,\n",
    "                   epochs=100, batch_size=64)"
   ]
  },
  {
   "cell_type": "code",
   "execution_count": 21,
   "metadata": {},
   "outputs": [
    {
     "name": "stdout",
     "output_type": "stream",
     "text": [
      "2/2 - 0s - loss: 0.6688 - mae: 0.6121\n"
     ]
    },
    {
     "data": {
      "text/plain": [
       "[0.6688295602798462, 0.6120840907096863]"
      ]
     },
     "execution_count": 21,
     "metadata": {},
     "output_type": "execute_result"
    }
   ],
   "source": [
    "# Evaluate the model on the test set\n",
    "model.evaluate(test_data, test_targets, verbose=2)"
   ]
  },
  {
   "cell_type": "code",
   "execution_count": 22,
   "metadata": {},
   "outputs": [
    {
     "data": {
      "image/png": "[encoded data removed]",
      "text/plain": [
       "<Figure size 432x288 with 1 Axes>"
      ]
     },
     "metadata": {
      "needs_background": "light"
     },
     "output_type": "display_data"
    }
   ],
   "source": [
    "# Plot the training and validation loss\n",
    "plt.plot(history.history['loss'])\n",
    "plt.plot(history.history['val_loss'])\n",
    "plt.title('Loss vs. epochs')\n",
    "plt.ylabel('Loss')\n",
    "plt.xlabel('Epoch')\n",
    "plt.legend(['Training', 'Validation'], loc='upper right')\n",
    "plt.show()"
   ]
  },
  {
   "cell_type": "markdown",
   "metadata": {},
   "source": [
    "We can clearly see that the model has significantly overfit the training dataset. We need to implement a few methods to prevent overfitting - reduce model complexity or add regularization or add early stopping."
   ]
  },
  {
   "cell_type": "markdown",
   "metadata": {},
   "source": [
    "# Add Regularization"
   ]
  },
  {
   "cell_type": "markdown",
   "metadata": {},
   "source": [
    "## Add Dropout"
   ]
  },
  {
   "cell_type": "code",
   "execution_count": 28,
   "metadata": {},
   "outputs": [],
   "source": [
    "wd = 1e-5  # weight decay\n",
    "rate = 0.3 # dropout rate\n",
    "\n",
    "# Define the regularized feedforward model\n",
    "model = Sequential([\n",
    "    Dense(128, activation=\"relu\", kernel_regularizer=regularizers.l2(wd),\n",
    "          input_shape=(train_data.shape[1],)),\n",
    "    Dropout(rate),\n",
    "    Dense(128, kernel_regularizer=regularizers.l2(wd), activation=\"relu\"),\n",
    "    Dropout(rate),\n",
    "    Dense(128, kernel_regularizer=regularizers.l2(wd), activation=\"relu\"),\n",
    "    Dropout(rate),\n",
    "    Dense(128, kernel_regularizer=regularizers.l2(wd), activation=\"relu\"),\n",
    "    Dropout(rate),\n",
    "    Dense(128, kernel_regularizer=regularizers.l2(wd), activation=\"relu\"),\n",
    "    Dropout(rate),\n",
    "    Dense(128, kernel_regularizer=regularizers.l2(wd), activation=\"relu\"),\n",
    "    Dropout(rate),\n",
    "    Dense(1)\n",
    "])"
   ]
  },
  {
   "cell_type": "code",
   "execution_count": 29,
   "metadata": {},
   "outputs": [],
   "source": [
    "# Compile the model\n",
    "model.compile(optimizer=\"adam\", loss=\"mse\",\n",
    "             metrics=[\"mae\"])"
   ]
  },
  {
   "cell_type": "code",
   "execution_count": 30,
   "metadata": {},
   "outputs": [
    {
     "name": "stdout",
     "output_type": "stream",
     "text": [
      "Epoch 1/100\n",
      "5/5 [==============================] - 1s 41ms/step - loss: 1.0281 - mae: 0.8637 - val_loss: 0.8665 - val_mae: 0.8039\n",
      "Epoch 2/100\n",
      "5/5 [==============================] - 0s 8ms/step - loss: 1.0121 - mae: 0.8551 - val_loss: 0.8481 - val_mae: 0.7977\n",
      "Epoch 3/100\n",
      "5/5 [==============================] - 0s 8ms/step - loss: 1.0063 - mae: 0.8535 - val_loss: 0.8179 - val_mae: 0.7917\n",
      "Epoch 4/100\n",
      "5/5 [==============================] - 0s 8ms/step - loss: 0.8966 - mae: 0.8143 - val_loss: 0.7571 - val_mae: 0.7666\n",
      "Epoch 5/100\n",
      "5/5 [==============================] - 0s 8ms/step - loss: 0.7483 - mae: 0.7416 - val_loss: 0.6660 - val_mae: 0.7043\n",
      "Epoch 6/100\n",
      "5/5 [==============================] - 0s 8ms/step - loss: 0.5891 - mae: 0.6277 - val_loss: 0.6829 - val_mae: 0.6633\n",
      "Epoch 7/100\n",
      "5/5 [==============================] - 0s 8ms/step - loss: 0.5701 - mae: 0.6105 - val_loss: 0.6431 - val_mae: 0.6331\n",
      "Epoch 8/100\n",
      "5/5 [==============================] - 0s 8ms/step - loss: 0.5290 - mae: 0.5911 - val_loss: 0.6507 - val_mae: 0.6584\n",
      "Epoch 9/100\n",
      "5/5 [==============================] - 0s 8ms/step - loss: 0.4802 - mae: 0.5692 - val_loss: 0.6691 - val_mae: 0.6784\n",
      "Epoch 10/100\n",
      "5/5 [==============================] - 0s 8ms/step - loss: 0.5222 - mae: 0.6057 - val_loss: 0.6637 - val_mae: 0.6704\n",
      "Epoch 11/100\n",
      "5/5 [==============================] - 0s 9ms/step - loss: 0.5394 - mae: 0.6115 - val_loss: 0.6819 - val_mae: 0.6568\n",
      "Epoch 12/100\n",
      "5/5 [==============================] - 0s 10ms/step - loss: 0.5559 - mae: 0.6111 - val_loss: 0.6850 - val_mae: 0.6475\n",
      "Epoch 13/100\n",
      "5/5 [==============================] - 0s 28ms/step - loss: 0.5706 - mae: 0.6093 - val_loss: 0.6636 - val_mae: 0.6533\n",
      "Epoch 14/100\n",
      "5/5 [==============================] - 0s 8ms/step - loss: 0.5400 - mae: 0.5910 - val_loss: 0.6543 - val_mae: 0.6533\n",
      "Epoch 15/100\n",
      "5/5 [==============================] - 0s 9ms/step - loss: 0.4592 - mae: 0.5438 - val_loss: 0.6704 - val_mae: 0.6625\n",
      "Epoch 16/100\n",
      "5/5 [==============================] - 0s 9ms/step - loss: 0.5016 - mae: 0.5728 - val_loss: 0.6832 - val_mae: 0.6672\n",
      "Epoch 17/100\n",
      "5/5 [==============================] - 0s 9ms/step - loss: 0.4827 - mae: 0.5752 - val_loss: 0.6294 - val_mae: 0.6254\n",
      "Epoch 18/100\n",
      "5/5 [==============================] - 0s 8ms/step - loss: 0.5133 - mae: 0.5791 - val_loss: 0.6516 - val_mae: 0.6509\n",
      "Epoch 19/100\n",
      "5/5 [==============================] - 0s 9ms/step - loss: 0.4799 - mae: 0.5716 - val_loss: 0.6639 - val_mae: 0.6563\n",
      "Epoch 20/100\n",
      "5/5 [==============================] - 0s 8ms/step - loss: 0.4760 - mae: 0.5579 - val_loss: 0.6447 - val_mae: 0.6345\n",
      "Epoch 21/100\n",
      "5/5 [==============================] - 0s 8ms/step - loss: 0.5130 - mae: 0.5801 - val_loss: 0.6498 - val_mae: 0.6393\n",
      "Epoch 22/100\n",
      "5/5 [==============================] - 0s 9ms/step - loss: 0.4631 - mae: 0.5532 - val_loss: 0.6415 - val_mae: 0.6390\n",
      "Epoch 23/100\n",
      "5/5 [==============================] - 0s 9ms/step - loss: 0.4816 - mae: 0.5520 - val_loss: 0.6292 - val_mae: 0.6352\n",
      "Epoch 24/100\n",
      "5/5 [==============================] - 0s 8ms/step - loss: 0.4653 - mae: 0.5460 - val_loss: 0.6592 - val_mae: 0.6573\n",
      "Epoch 25/100\n",
      "5/5 [==============================] - 0s 9ms/step - loss: 0.4708 - mae: 0.5720 - val_loss: 0.6617 - val_mae: 0.6429\n",
      "Epoch 26/100\n",
      "5/5 [==============================] - 0s 8ms/step - loss: 0.4316 - mae: 0.5206 - val_loss: 0.6411 - val_mae: 0.6316\n",
      "Epoch 27/100\n",
      "5/5 [==============================] - 0s 8ms/step - loss: 0.4894 - mae: 0.5512 - val_loss: 0.6454 - val_mae: 0.6464\n",
      "Epoch 28/100\n",
      "5/5 [==============================] - 0s 8ms/step - loss: 0.4511 - mae: 0.5409 - val_loss: 0.6381 - val_mae: 0.6357\n",
      "Epoch 29/100\n",
      "5/5 [==============================] - 0s 8ms/step - loss: 0.4383 - mae: 0.5172 - val_loss: 0.6363 - val_mae: 0.6284\n",
      "Epoch 30/100\n",
      "5/5 [==============================] - 0s 9ms/step - loss: 0.4406 - mae: 0.5473 - val_loss: 0.6709 - val_mae: 0.6526\n",
      "Epoch 31/100\n",
      "5/5 [==============================] - 0s 9ms/step - loss: 0.4534 - mae: 0.5376 - val_loss: 0.6336 - val_mae: 0.6253\n",
      "Epoch 32/100\n",
      "5/5 [==============================] - 0s 8ms/step - loss: 0.4095 - mae: 0.5191 - val_loss: 0.6482 - val_mae: 0.6360\n",
      "Epoch 33/100\n",
      "5/5 [==============================] - 0s 8ms/step - loss: 0.4161 - mae: 0.5066 - val_loss: 0.6637 - val_mae: 0.6368\n",
      "Epoch 34/100\n",
      "5/5 [==============================] - 0s 8ms/step - loss: 0.4845 - mae: 0.5679 - val_loss: 0.6337 - val_mae: 0.6191\n",
      "Epoch 35/100\n",
      "5/5 [==============================] - 0s 8ms/step - loss: 0.4569 - mae: 0.5434 - val_loss: 0.6520 - val_mae: 0.6540\n",
      "Epoch 36/100\n",
      "5/5 [==============================] - 0s 8ms/step - loss: 0.4902 - mae: 0.5707 - val_loss: 0.6258 - val_mae: 0.6259\n",
      "Epoch 37/100\n",
      "5/5 [==============================] - 0s 9ms/step - loss: 0.4651 - mae: 0.5461 - val_loss: 0.6437 - val_mae: 0.6290\n",
      "Epoch 38/100\n",
      "5/5 [==============================] - 0s 8ms/step - loss: 0.4514 - mae: 0.5283 - val_loss: 0.6392 - val_mae: 0.6362\n",
      "Epoch 39/100\n",
      "5/5 [==============================] - 0s 8ms/step - loss: 0.4119 - mae: 0.5098 - val_loss: 0.6253 - val_mae: 0.6268\n",
      "Epoch 40/100\n",
      "5/5 [==============================] - 0s 8ms/step - loss: 0.4034 - mae: 0.5134 - val_loss: 0.6725 - val_mae: 0.6484\n",
      "Epoch 41/100\n",
      "5/5 [==============================] - 0s 8ms/step - loss: 0.4230 - mae: 0.5296 - val_loss: 0.6890 - val_mae: 0.6498\n",
      "Epoch 42/100\n",
      "5/5 [==============================] - 0s 8ms/step - loss: 0.3991 - mae: 0.5057 - val_loss: 0.6468 - val_mae: 0.6242\n",
      "Epoch 43/100\n",
      "5/5 [==============================] - 0s 9ms/step - loss: 0.4505 - mae: 0.5420 - val_loss: 0.6833 - val_mae: 0.6496\n",
      "Epoch 44/100\n",
      "5/5 [==============================] - 0s 9ms/step - loss: 0.4613 - mae: 0.5367 - val_loss: 0.6770 - val_mae: 0.6406\n",
      "Epoch 45/100\n",
      "5/5 [==============================] - 0s 8ms/step - loss: 0.3942 - mae: 0.4956 - val_loss: 0.6587 - val_mae: 0.6405\n",
      "Epoch 46/100\n",
      "5/5 [==============================] - 0s 8ms/step - loss: 0.3960 - mae: 0.4866 - val_loss: 0.6435 - val_mae: 0.6290\n",
      "Epoch 47/100\n",
      "5/5 [==============================] - 0s 8ms/step - loss: 0.4130 - mae: 0.5200 - val_loss: 0.6572 - val_mae: 0.6339\n",
      "Epoch 48/100\n",
      "5/5 [==============================] - 0s 8ms/step - loss: 0.4150 - mae: 0.5195 - val_loss: 0.6634 - val_mae: 0.6367\n",
      "Epoch 49/100\n",
      "5/5 [==============================] - 0s 9ms/step - loss: 0.4218 - mae: 0.5153 - val_loss: 0.6525 - val_mae: 0.6322\n",
      "Epoch 50/100\n",
      "5/5 [==============================] - 0s 8ms/step - loss: 0.4236 - mae: 0.5300 - val_loss: 0.6751 - val_mae: 0.6408\n",
      "Epoch 51/100\n",
      "5/5 [==============================] - 0s 8ms/step - loss: 0.4103 - mae: 0.5087 - val_loss: 0.6976 - val_mae: 0.6465\n",
      "Epoch 52/100\n",
      "5/5 [==============================] - 0s 8ms/step - loss: 0.4616 - mae: 0.5433 - val_loss: 0.6494 - val_mae: 0.6234\n",
      "Epoch 53/100\n",
      "5/5 [==============================] - 0s 8ms/step - loss: 0.4296 - mae: 0.5267 - val_loss: 0.6935 - val_mae: 0.6583\n",
      "Epoch 54/100\n",
      "5/5 [==============================] - 0s 8ms/step - loss: 0.4219 - mae: 0.5181 - val_loss: 0.6212 - val_mae: 0.6168\n",
      "Epoch 55/100\n",
      "5/5 [==============================] - 0s 9ms/step - loss: 0.4195 - mae: 0.5150 - val_loss: 0.6823 - val_mae: 0.6463\n",
      "Epoch 56/100\n",
      "5/5 [==============================] - 0s 8ms/step - loss: 0.4561 - mae: 0.5354 - val_loss: 0.6802 - val_mae: 0.6427\n",
      "Epoch 57/100\n",
      "5/5 [==============================] - 0s 8ms/step - loss: 0.3740 - mae: 0.4827 - val_loss: 0.6708 - val_mae: 0.6384\n",
      "Epoch 58/100\n",
      "5/5 [==============================] - 0s 8ms/step - loss: 0.3642 - mae: 0.4812 - val_loss: 0.6552 - val_mae: 0.6272\n",
      "Epoch 59/100\n",
      "5/5 [==============================] - 0s 8ms/step - loss: 0.4214 - mae: 0.5214 - val_loss: 0.6884 - val_mae: 0.6447\n",
      "Epoch 60/100\n",
      "5/5 [==============================] - 0s 8ms/step - loss: 0.3490 - mae: 0.4739 - val_loss: 0.6891 - val_mae: 0.6453\n",
      "Epoch 61/100\n",
      "5/5 [==============================] - 0s 8ms/step - loss: 0.3934 - mae: 0.4976 - val_loss: 0.6762 - val_mae: 0.6372\n",
      "Epoch 62/100\n",
      "5/5 [==============================] - 0s 8ms/step - loss: 0.3702 - mae: 0.4821 - val_loss: 0.6553 - val_mae: 0.6285\n",
      "Epoch 63/100\n",
      "5/5 [==============================] - 0s 8ms/step - loss: 0.4132 - mae: 0.5136 - val_loss: 0.6587 - val_mae: 0.6387\n",
      "Epoch 64/100\n"
     ]
    },
    {
     "name": "stdout",
     "output_type": "stream",
     "text": [
      "5/5 [==============================] - 0s 8ms/step - loss: 0.3916 - mae: 0.5016 - val_loss: 0.6909 - val_mae: 0.6408\n",
      "Epoch 65/100\n",
      "5/5 [==============================] - 0s 8ms/step - loss: 0.3688 - mae: 0.4893 - val_loss: 0.6944 - val_mae: 0.6324\n",
      "Epoch 66/100\n",
      "5/5 [==============================] - 0s 8ms/step - loss: 0.3808 - mae: 0.4832 - val_loss: 0.6788 - val_mae: 0.6358\n",
      "Epoch 67/100\n",
      "5/5 [==============================] - 0s 27ms/step - loss: 0.4074 - mae: 0.4961 - val_loss: 0.6726 - val_mae: 0.6517\n",
      "Epoch 68/100\n",
      "5/5 [==============================] - 0s 8ms/step - loss: 0.3998 - mae: 0.4973 - val_loss: 0.6599 - val_mae: 0.6299\n",
      "Epoch 69/100\n",
      "5/5 [==============================] - 0s 8ms/step - loss: 0.3884 - mae: 0.4962 - val_loss: 0.6821 - val_mae: 0.6321\n",
      "Epoch 70/100\n",
      "5/5 [==============================] - 0s 9ms/step - loss: 0.3825 - mae: 0.4866 - val_loss: 0.6606 - val_mae: 0.6255\n",
      "Epoch 71/100\n",
      "5/5 [==============================] - 0s 8ms/step - loss: 0.4163 - mae: 0.5043 - val_loss: 0.6950 - val_mae: 0.6518\n",
      "Epoch 72/100\n",
      "5/5 [==============================] - 0s 8ms/step - loss: 0.3848 - mae: 0.4898 - val_loss: 0.6767 - val_mae: 0.6329\n",
      "Epoch 73/100\n",
      "5/5 [==============================] - 0s 8ms/step - loss: 0.4246 - mae: 0.5086 - val_loss: 0.7214 - val_mae: 0.6542\n",
      "Epoch 74/100\n",
      "5/5 [==============================] - 0s 8ms/step - loss: 0.3455 - mae: 0.4769 - val_loss: 0.6875 - val_mae: 0.6302\n",
      "Epoch 75/100\n",
      "5/5 [==============================] - 0s 8ms/step - loss: 0.3908 - mae: 0.4888 - val_loss: 0.6712 - val_mae: 0.6373\n",
      "Epoch 76/100\n",
      "5/5 [==============================] - 0s 8ms/step - loss: 0.3350 - mae: 0.4603 - val_loss: 0.6776 - val_mae: 0.6314\n",
      "Epoch 77/100\n",
      "5/5 [==============================] - 0s 8ms/step - loss: 0.3556 - mae: 0.4717 - val_loss: 0.7117 - val_mae: 0.6327\n",
      "Epoch 78/100\n",
      "5/5 [==============================] - 0s 8ms/step - loss: 0.3539 - mae: 0.4841 - val_loss: 0.6748 - val_mae: 0.6201\n",
      "Epoch 79/100\n",
      "5/5 [==============================] - 0s 8ms/step - loss: 0.3640 - mae: 0.4767 - val_loss: 0.6991 - val_mae: 0.6483\n",
      "Epoch 80/100\n",
      "5/5 [==============================] - 0s 8ms/step - loss: 0.3489 - mae: 0.4758 - val_loss: 0.6551 - val_mae: 0.6136\n",
      "Epoch 81/100\n",
      "5/5 [==============================] - 0s 8ms/step - loss: 0.4353 - mae: 0.5263 - val_loss: 0.6827 - val_mae: 0.6151\n",
      "Epoch 82/100\n",
      "5/5 [==============================] - 0s 8ms/step - loss: 0.3579 - mae: 0.4682 - val_loss: 0.7335 - val_mae: 0.6354\n",
      "Epoch 83/100\n",
      "5/5 [==============================] - 0s 8ms/step - loss: 0.3400 - mae: 0.4524 - val_loss: 0.6767 - val_mae: 0.6240\n",
      "Epoch 84/100\n",
      "5/5 [==============================] - 0s 8ms/step - loss: 0.3460 - mae: 0.4431 - val_loss: 0.7353 - val_mae: 0.6561\n",
      "Epoch 85/100\n",
      "5/5 [==============================] - 0s 9ms/step - loss: 0.3567 - mae: 0.4738 - val_loss: 0.7216 - val_mae: 0.6416\n",
      "Epoch 86/100\n",
      "5/5 [==============================] - 0s 8ms/step - loss: 0.3692 - mae: 0.4686 - val_loss: 0.6927 - val_mae: 0.6347\n",
      "Epoch 87/100\n",
      "5/5 [==============================] - 0s 8ms/step - loss: 0.3555 - mae: 0.4755 - val_loss: 0.6836 - val_mae: 0.6301\n",
      "Epoch 88/100\n",
      "5/5 [==============================] - 0s 8ms/step - loss: 0.3698 - mae: 0.4859 - val_loss: 0.6934 - val_mae: 0.6334\n",
      "Epoch 89/100\n",
      "5/5 [==============================] - 0s 8ms/step - loss: 0.3258 - mae: 0.4448 - val_loss: 0.7559 - val_mae: 0.6570\n",
      "Epoch 90/100\n",
      "5/5 [==============================] - 0s 8ms/step - loss: 0.3408 - mae: 0.4443 - val_loss: 0.6818 - val_mae: 0.6316\n",
      "Epoch 91/100\n",
      "5/5 [==============================] - 0s 8ms/step - loss: 0.3330 - mae: 0.4633 - val_loss: 0.7673 - val_mae: 0.6725\n",
      "Epoch 92/100\n",
      "5/5 [==============================] - 0s 8ms/step - loss: 0.3286 - mae: 0.4470 - val_loss: 0.6922 - val_mae: 0.6324\n",
      "Epoch 93/100\n",
      "5/5 [==============================] - 0s 8ms/step - loss: 0.3544 - mae: 0.4496 - val_loss: 0.7417 - val_mae: 0.6524\n",
      "Epoch 94/100\n",
      "5/5 [==============================] - 0s 9ms/step - loss: 0.3375 - mae: 0.4479 - val_loss: 0.7250 - val_mae: 0.6486\n",
      "Epoch 95/100\n",
      "5/5 [==============================] - 0s 8ms/step - loss: 0.3328 - mae: 0.4431 - val_loss: 0.7199 - val_mae: 0.6493\n",
      "Epoch 96/100\n",
      "5/5 [==============================] - 0s 8ms/step - loss: 0.3475 - mae: 0.4651 - val_loss: 0.7704 - val_mae: 0.6757\n",
      "Epoch 97/100\n",
      "5/5 [==============================] - 0s 8ms/step - loss: 0.3022 - mae: 0.4232 - val_loss: 0.6727 - val_mae: 0.6375\n",
      "Epoch 98/100\n",
      "5/5 [==============================] - 0s 9ms/step - loss: 0.3596 - mae: 0.4768 - val_loss: 0.7429 - val_mae: 0.6609\n",
      "Epoch 99/100\n",
      "5/5 [==============================] - 0s 9ms/step - loss: 0.3200 - mae: 0.4501 - val_loss: 0.7142 - val_mae: 0.6450\n",
      "Epoch 100/100\n",
      "5/5 [==============================] - 0s 8ms/step - loss: 0.3176 - mae: 0.4463 - val_loss: 0.7373 - val_mae: 0.6448\n"
     ]
    }
   ],
   "source": [
    "# Fit the model and assign a subset of the training data as validation data\n",
    "history = model.fit(train_data, train_targets, validation_split=0.2,\n",
    "                   epochs=100, batch_size=64)"
   ]
  },
  {
   "cell_type": "code",
   "execution_count": 31,
   "metadata": {},
   "outputs": [
    {
     "name": "stdout",
     "output_type": "stream",
     "text": [
      "2/2 - 0s - loss: 0.5134 - mae: 0.5805\n"
     ]
    },
    {
     "data": {
      "text/plain": [
       "[0.513385534286499, 0.5804787278175354]"
      ]
     },
     "execution_count": 31,
     "metadata": {},
     "output_type": "execute_result"
    }
   ],
   "source": [
    "# Evaluate the model on the test set\n",
    "model.evaluate(test_data, test_targets, verbose=2)"
   ]
  },
  {
   "cell_type": "code",
   "execution_count": 32,
   "metadata": {},
   "outputs": [
    {
     "data": {
      "image/png": "[encoded data removed]",
      "text/plain": [
       "<Figure size 432x288 with 1 Axes>"
      ]
     },
     "metadata": {
      "needs_background": "light"
     },
     "output_type": "display_data"
    }
   ],
   "source": [
    "# Plot the regularized training and validation losses\n",
    "plt.plot(history.history['loss'])\n",
    "plt.plot(history.history['val_loss'])\n",
    "plt.title('Loss vs. epochs')\n",
    "plt.ylabel('Loss')\n",
    "plt.xlabel('Epoch')\n",
    "plt.legend(['Training', 'Validation'], loc='upper right')\n",
    "plt.show()"
   ]
  },
  {
   "cell_type": "markdown",
   "metadata": {},
   "source": [
    "By implementing dropout and weight decay we were able to reduce the overfitting. But we can see that significant overfitting is still present. Let's take a look at another regularization technique that could help us, batch normalization."
   ]
  },
  {
   "cell_type": "markdown",
   "metadata": {},
   "source": [
    "## Batch Normalization"
   ]
  },
  {
   "cell_type": "code",
   "execution_count": 37,
   "metadata": {},
   "outputs": [],
   "source": [
    "rate = 0.3 # dropout rate\n",
    "\n",
    "# Redefine the feedforward model with batch norm layers\n",
    "model = Sequential([\n",
    "    Dense(128, activation=\"relu\", input_shape=(train_data.shape[1],)),\n",
    "    BatchNormalization(),\n",
    "    Dropout(rate),\n",
    "    Dense(128, activation=\"relu\"),\n",
    "    BatchNormalization(),\n",
    "    Dropout(rate),\n",
    "    Dense(128, activation=\"relu\"),\n",
    "    BatchNormalization(),\n",
    "    Dropout(rate),\n",
    "    Dense(128, activation=\"relu\"),\n",
    "    BatchNormalization(),\n",
    "    Dropout(rate),\n",
    "    Dense(128, activation=\"relu\"),\n",
    "    BatchNormalization(),\n",
    "    Dropout(rate),\n",
    "    Dense(128, activation=\"relu\"),\n",
    "    BatchNormalization(),\n",
    "    Dropout(rate),\n",
    "    Dense(1)\n",
    "])"
   ]
  },
  {
   "cell_type": "markdown",
   "metadata": {},
   "source": [
    "There are some parameters and hyperparameters associated with batch normalisation.\n",
    "\n",
    "The hyperparameter **momentum** is the weighting given to the previous running mean when re-computing it with an extra minibatch. By **default**, it is set to 0.99.\n",
    "\n",
    "The hyperparameter  𝜖  is used for numeric stability when performing the normalisation over the minibatch. By **default** it is set to 0.001.\n",
    "\n",
    "The parameters  𝛽  and  𝛾  are used to implement an affine transformation after normalisation. By **default**,  𝛽  is an all-zeros vector, and  𝛾  is an all-ones vector."
   ]
  },
  {
   "cell_type": "code",
   "execution_count": 38,
   "metadata": {},
   "outputs": [],
   "source": [
    "# Compile the model\n",
    "model.compile(optimizer=\"adam\", loss=\"mse\",\n",
    "             metrics=[\"mae\"])"
   ]
  },
  {
   "cell_type": "code",
   "execution_count": 39,
   "metadata": {},
   "outputs": [
    {
     "name": "stdout",
     "output_type": "stream",
     "text": [
      "Epoch 1/100\n",
      "5/5 [==============================] - 1s 47ms/step - loss: 3.9166 - mae: 1.6016 - val_loss: 0.8533 - val_mae: 0.7971\n",
      "Epoch 2/100\n",
      "5/5 [==============================] - 0s 10ms/step - loss: 2.5990 - mae: 1.2828 - val_loss: 0.8544 - val_mae: 0.7979\n",
      "Epoch 3/100\n",
      "5/5 [==============================] - 0s 9ms/step - loss: 2.7712 - mae: 1.3092 - val_loss: 0.8526 - val_mae: 0.7967\n",
      "Epoch 4/100\n",
      "5/5 [==============================] - 0s 10ms/step - loss: 2.7085 - mae: 1.2749 - val_loss: 0.8490 - val_mae: 0.7941\n",
      "Epoch 5/100\n",
      "5/5 [==============================] - 0s 9ms/step - loss: 1.8950 - mae: 1.0935 - val_loss: 0.8495 - val_mae: 0.7945\n",
      "Epoch 6/100\n",
      "5/5 [==============================] - 0s 9ms/step - loss: 2.0804 - mae: 1.1577 - val_loss: 0.8503 - val_mae: 0.7951\n",
      "Epoch 7/100\n",
      "5/5 [==============================] - 0s 9ms/step - loss: 2.0970 - mae: 1.1432 - val_loss: 0.8477 - val_mae: 0.7932\n",
      "Epoch 8/100\n",
      "5/5 [==============================] - 0s 9ms/step - loss: 1.7794 - mae: 1.0542 - val_loss: 0.8442 - val_mae: 0.7912\n",
      "Epoch 9/100\n",
      "5/5 [==============================] - 0s 9ms/step - loss: 1.7416 - mae: 1.0387 - val_loss: 0.8402 - val_mae: 0.7888\n",
      "Epoch 10/100\n",
      "5/5 [==============================] - 0s 9ms/step - loss: 1.9413 - mae: 1.0996 - val_loss: 0.8349 - val_mae: 0.7852\n",
      "Epoch 11/100\n",
      "5/5 [==============================] - 0s 10ms/step - loss: 1.6426 - mae: 1.0324 - val_loss: 0.8300 - val_mae: 0.7815\n",
      "Epoch 12/100\n",
      "5/5 [==============================] - 0s 9ms/step - loss: 1.4330 - mae: 0.9363 - val_loss: 0.8287 - val_mae: 0.7807\n",
      "Epoch 13/100\n",
      "5/5 [==============================] - 0s 9ms/step - loss: 1.6181 - mae: 1.0087 - val_loss: 0.8281 - val_mae: 0.7805\n",
      "Epoch 14/100\n",
      "5/5 [==============================] - 0s 9ms/step - loss: 1.7448 - mae: 1.0128 - val_loss: 0.8290 - val_mae: 0.7812\n",
      "Epoch 15/100\n",
      "5/5 [==============================] - 0s 9ms/step - loss: 1.7076 - mae: 0.9857 - val_loss: 0.8351 - val_mae: 0.7860\n",
      "Epoch 16/100\n",
      "5/5 [==============================] - 0s 9ms/step - loss: 1.5149 - mae: 0.9627 - val_loss: 0.8372 - val_mae: 0.7873\n",
      "Epoch 17/100\n",
      "5/5 [==============================] - 0s 9ms/step - loss: 1.6542 - mae: 1.0264 - val_loss: 0.8385 - val_mae: 0.7879\n",
      "Epoch 18/100\n",
      "5/5 [==============================] - 0s 9ms/step - loss: 1.5427 - mae: 0.9984 - val_loss: 0.8463 - val_mae: 0.7926\n",
      "Epoch 19/100\n",
      "5/5 [==============================] - 0s 9ms/step - loss: 1.3602 - mae: 0.9128 - val_loss: 0.8437 - val_mae: 0.7909\n",
      "Epoch 20/100\n",
      "5/5 [==============================] - 0s 9ms/step - loss: 1.4905 - mae: 0.9775 - val_loss: 0.8356 - val_mae: 0.7855\n",
      "Epoch 21/100\n",
      "5/5 [==============================] - 0s 9ms/step - loss: 1.2388 - mae: 0.9069 - val_loss: 0.8303 - val_mae: 0.7814\n",
      "Epoch 22/100\n",
      "5/5 [==============================] - 0s 9ms/step - loss: 1.2591 - mae: 0.9057 - val_loss: 0.8310 - val_mae: 0.7821\n",
      "Epoch 23/100\n",
      "5/5 [==============================] - 0s 9ms/step - loss: 1.1826 - mae: 0.8531 - val_loss: 0.8329 - val_mae: 0.7835\n",
      "Epoch 24/100\n",
      "5/5 [==============================] - 0s 10ms/step - loss: 1.1721 - mae: 0.8500 - val_loss: 0.8363 - val_mae: 0.7862\n",
      "Epoch 25/100\n",
      "5/5 [==============================] - 0s 9ms/step - loss: 1.2160 - mae: 0.8728 - val_loss: 0.8432 - val_mae: 0.7908\n",
      "Epoch 26/100\n",
      "5/5 [==============================] - 0s 9ms/step - loss: 1.1482 - mae: 0.8644 - val_loss: 0.8520 - val_mae: 0.7975\n",
      "Epoch 27/100\n",
      "5/5 [==============================] - 0s 9ms/step - loss: 1.1414 - mae: 0.8531 - val_loss: 0.8509 - val_mae: 0.7974\n",
      "Epoch 28/100\n",
      "5/5 [==============================] - 0s 9ms/step - loss: 1.0470 - mae: 0.8002 - val_loss: 0.8233 - val_mae: 0.7794\n",
      "Epoch 29/100\n",
      "5/5 [==============================] - 0s 9ms/step - loss: 1.1151 - mae: 0.8340 - val_loss: 0.8062 - val_mae: 0.7645\n",
      "Epoch 30/100\n",
      "5/5 [==============================] - 0s 9ms/step - loss: 1.0030 - mae: 0.7841 - val_loss: 0.8013 - val_mae: 0.7587\n",
      "Epoch 31/100\n",
      "5/5 [==============================] - 0s 9ms/step - loss: 1.0300 - mae: 0.7912 - val_loss: 0.7993 - val_mae: 0.7564\n",
      "Epoch 32/100\n",
      "5/5 [==============================] - 0s 9ms/step - loss: 1.0712 - mae: 0.8163 - val_loss: 0.7972 - val_mae: 0.7591\n",
      "Epoch 33/100\n",
      "5/5 [==============================] - 0s 32ms/step - loss: 1.0971 - mae: 0.8266 - val_loss: 0.7963 - val_mae: 0.7603\n",
      "Epoch 34/100\n",
      "5/5 [==============================] - 0s 9ms/step - loss: 1.1128 - mae: 0.8399 - val_loss: 0.7935 - val_mae: 0.7594\n",
      "Epoch 35/100\n",
      "5/5 [==============================] - 0s 9ms/step - loss: 1.0894 - mae: 0.8396 - val_loss: 0.7897 - val_mae: 0.7559\n",
      "Epoch 36/100\n",
      "5/5 [==============================] - 0s 9ms/step - loss: 0.9642 - mae: 0.7707 - val_loss: 0.7873 - val_mae: 0.7506\n",
      "Epoch 37/100\n",
      "5/5 [==============================] - 0s 9ms/step - loss: 0.8666 - mae: 0.7553 - val_loss: 0.7893 - val_mae: 0.7450\n",
      "Epoch 38/100\n",
      "5/5 [==============================] - 0s 9ms/step - loss: 0.9543 - mae: 0.7810 - val_loss: 0.7922 - val_mae: 0.7417\n",
      "Epoch 39/100\n",
      "5/5 [==============================] - 0s 10ms/step - loss: 0.9952 - mae: 0.7943 - val_loss: 0.7935 - val_mae: 0.7408\n",
      "Epoch 40/100\n",
      "5/5 [==============================] - 0s 9ms/step - loss: 0.7987 - mae: 0.7156 - val_loss: 0.7901 - val_mae: 0.7400\n",
      "Epoch 41/100\n",
      "5/5 [==============================] - 0s 9ms/step - loss: 0.8572 - mae: 0.7567 - val_loss: 0.7797 - val_mae: 0.7399\n",
      "Epoch 42/100\n",
      "5/5 [==============================] - 0s 10ms/step - loss: 0.9836 - mae: 0.8157 - val_loss: 0.7701 - val_mae: 0.7410\n",
      "Epoch 43/100\n",
      "5/5 [==============================] - 0s 9ms/step - loss: 0.9333 - mae: 0.7736 - val_loss: 0.7670 - val_mae: 0.7399\n",
      "Epoch 44/100\n",
      "5/5 [==============================] - 0s 9ms/step - loss: 0.9595 - mae: 0.7604 - val_loss: 0.7676 - val_mae: 0.7376\n",
      "Epoch 45/100\n",
      "5/5 [==============================] - 0s 9ms/step - loss: 0.8323 - mae: 0.7383 - val_loss: 0.7672 - val_mae: 0.7363\n",
      "Epoch 46/100\n",
      "5/5 [==============================] - 0s 9ms/step - loss: 0.9533 - mae: 0.7681 - val_loss: 0.7633 - val_mae: 0.7367\n",
      "Epoch 47/100\n",
      "5/5 [==============================] - 0s 9ms/step - loss: 0.7878 - mae: 0.7237 - val_loss: 0.7607 - val_mae: 0.7375\n",
      "Epoch 48/100\n",
      "5/5 [==============================] - 0s 9ms/step - loss: 0.8718 - mae: 0.7688 - val_loss: 0.7560 - val_mae: 0.7362\n",
      "Epoch 49/100\n",
      "5/5 [==============================] - 0s 9ms/step - loss: 0.8197 - mae: 0.7328 - val_loss: 0.7523 - val_mae: 0.7314\n",
      "Epoch 50/100\n",
      "5/5 [==============================] - 0s 9ms/step - loss: 0.8117 - mae: 0.7307 - val_loss: 0.7524 - val_mae: 0.7272\n",
      "Epoch 51/100\n",
      "5/5 [==============================] - 0s 9ms/step - loss: 0.7897 - mae: 0.7133 - val_loss: 0.7513 - val_mae: 0.7262\n",
      "Epoch 52/100\n",
      "5/5 [==============================] - 0s 9ms/step - loss: 0.7577 - mae: 0.7034 - val_loss: 0.7491 - val_mae: 0.7246\n",
      "Epoch 53/100\n",
      "5/5 [==============================] - 0s 10ms/step - loss: 0.6956 - mae: 0.6693 - val_loss: 0.7474 - val_mae: 0.7213\n",
      "Epoch 54/100\n",
      "5/5 [==============================] - 0s 9ms/step - loss: 0.7300 - mae: 0.6878 - val_loss: 0.7431 - val_mae: 0.7219\n",
      "Epoch 55/100\n",
      "5/5 [==============================] - 0s 9ms/step - loss: 0.6658 - mae: 0.6417 - val_loss: 0.7400 - val_mae: 0.7226\n",
      "Epoch 56/100\n",
      "5/5 [==============================] - 0s 9ms/step - loss: 0.6816 - mae: 0.6683 - val_loss: 0.7373 - val_mae: 0.7231\n",
      "Epoch 57/100\n",
      "5/5 [==============================] - 0s 9ms/step - loss: 0.7347 - mae: 0.6838 - val_loss: 0.7342 - val_mae: 0.7263\n",
      "Epoch 58/100\n",
      "5/5 [==============================] - 0s 9ms/step - loss: 0.7648 - mae: 0.6993 - val_loss: 0.7326 - val_mae: 0.7270\n",
      "Epoch 59/100\n",
      "5/5 [==============================] - 0s 9ms/step - loss: 0.7143 - mae: 0.6923 - val_loss: 0.7313 - val_mae: 0.7253\n",
      "Epoch 60/100\n",
      "5/5 [==============================] - 0s 9ms/step - loss: 0.6989 - mae: 0.6867 - val_loss: 0.7279 - val_mae: 0.7212\n",
      "Epoch 61/100\n",
      "5/5 [==============================] - 0s 9ms/step - loss: 0.6566 - mae: 0.6433 - val_loss: 0.7233 - val_mae: 0.7172\n",
      "Epoch 62/100\n",
      "5/5 [==============================] - 0s 9ms/step - loss: 0.8231 - mae: 0.7035 - val_loss: 0.7203 - val_mae: 0.7138\n",
      "Epoch 63/100\n",
      "5/5 [==============================] - 0s 9ms/step - loss: 0.6082 - mae: 0.6143 - val_loss: 0.7170 - val_mae: 0.7120\n",
      "Epoch 64/100\n",
      "5/5 [==============================] - 0s 9ms/step - loss: 0.5526 - mae: 0.5987 - val_loss: 0.7130 - val_mae: 0.7112\n",
      "Epoch 65/100\n",
      "5/5 [==============================] - 0s 9ms/step - loss: 0.8519 - mae: 0.7338 - val_loss: 0.7073 - val_mae: 0.7084\n",
      "Epoch 66/100\n",
      "5/5 [==============================] - 0s 9ms/step - loss: 0.6102 - mae: 0.6268 - val_loss: 0.7022 - val_mae: 0.7034\n",
      "Epoch 67/100\n",
      "5/5 [==============================] - 0s 9ms/step - loss: 0.7100 - mae: 0.6819 - val_loss: 0.6961 - val_mae: 0.7017\n",
      "Epoch 68/100\n",
      "5/5 [==============================] - 0s 9ms/step - loss: 0.6891 - mae: 0.6439 - val_loss: 0.6924 - val_mae: 0.6956\n",
      "Epoch 69/100\n",
      "5/5 [==============================] - 0s 9ms/step - loss: 0.7009 - mae: 0.6602 - val_loss: 0.6897 - val_mae: 0.6899\n",
      "Epoch 70/100\n",
      "5/5 [==============================] - 0s 9ms/step - loss: 0.6221 - mae: 0.6303 - val_loss: 0.6849 - val_mae: 0.6887\n",
      "Epoch 71/100\n",
      "5/5 [==============================] - 0s 9ms/step - loss: 0.6910 - mae: 0.6634 - val_loss: 0.6794 - val_mae: 0.6873\n",
      "Epoch 72/100\n",
      "5/5 [==============================] - 0s 10ms/step - loss: 0.6294 - mae: 0.6500 - val_loss: 0.6749 - val_mae: 0.6815\n",
      "Epoch 73/100\n",
      "5/5 [==============================] - 0s 9ms/step - loss: 0.6373 - mae: 0.6516 - val_loss: 0.6770 - val_mae: 0.6759\n",
      "Epoch 74/100\n",
      "5/5 [==============================] - 0s 10ms/step - loss: 0.6827 - mae: 0.6560 - val_loss: 0.6715 - val_mae: 0.6742\n",
      "Epoch 75/100\n",
      "5/5 [==============================] - 0s 10ms/step - loss: 0.5655 - mae: 0.6072 - val_loss: 0.6677 - val_mae: 0.6727\n",
      "Epoch 76/100\n",
      "5/5 [==============================] - 0s 11ms/step - loss: 0.5762 - mae: 0.6165 - val_loss: 0.6649 - val_mae: 0.6681\n",
      "Epoch 77/100\n",
      "5/5 [==============================] - 0s 9ms/step - loss: 0.5573 - mae: 0.6061 - val_loss: 0.6647 - val_mae: 0.6624\n",
      "Epoch 78/100\n",
      "5/5 [==============================] - 0s 9ms/step - loss: 0.6292 - mae: 0.6275 - val_loss: 0.6672 - val_mae: 0.6587\n",
      "Epoch 79/100\n",
      "5/5 [==============================] - 0s 9ms/step - loss: 0.5515 - mae: 0.5917 - val_loss: 0.6657 - val_mae: 0.6557\n",
      "Epoch 80/100\n",
      "5/5 [==============================] - 0s 10ms/step - loss: 0.6054 - mae: 0.6138 - val_loss: 0.6600 - val_mae: 0.6520\n",
      "Epoch 81/100\n",
      "5/5 [==============================] - 0s 9ms/step - loss: 0.6139 - mae: 0.6360 - val_loss: 0.6529 - val_mae: 0.6502\n",
      "Epoch 82/100\n",
      "5/5 [==============================] - 0s 9ms/step - loss: 0.5912 - mae: 0.6180 - val_loss: 0.6440 - val_mae: 0.6486\n",
      "Epoch 83/100\n",
      "5/5 [==============================] - 0s 9ms/step - loss: 0.5307 - mae: 0.5725 - val_loss: 0.6381 - val_mae: 0.6471\n",
      "Epoch 84/100\n",
      "5/5 [==============================] - 0s 9ms/step - loss: 0.5555 - mae: 0.5937 - val_loss: 0.6335 - val_mae: 0.6459\n",
      "Epoch 85/100\n",
      "5/5 [==============================] - 0s 32ms/step - loss: 0.5144 - mae: 0.5722 - val_loss: 0.6302 - val_mae: 0.6460\n",
      "Epoch 86/100\n",
      "5/5 [==============================] - 0s 10ms/step - loss: 0.4774 - mae: 0.5664 - val_loss: 0.6279 - val_mae: 0.6436\n",
      "Epoch 87/100\n",
      "5/5 [==============================] - 0s 10ms/step - loss: 0.5207 - mae: 0.5705 - val_loss: 0.6266 - val_mae: 0.6448\n",
      "Epoch 88/100\n",
      "5/5 [==============================] - 0s 10ms/step - loss: 0.5708 - mae: 0.6182 - val_loss: 0.6242 - val_mae: 0.6495\n",
      "Epoch 89/100\n",
      "5/5 [==============================] - 0s 11ms/step - loss: 0.5523 - mae: 0.5986 - val_loss: 0.6219 - val_mae: 0.6541\n",
      "Epoch 90/100\n",
      "5/5 [==============================] - 0s 10ms/step - loss: 0.5643 - mae: 0.6064 - val_loss: 0.6203 - val_mae: 0.6548\n",
      "Epoch 91/100\n",
      "5/5 [==============================] - 0s 9ms/step - loss: 0.4851 - mae: 0.5462 - val_loss: 0.6190 - val_mae: 0.6508\n",
      "Epoch 92/100\n",
      "5/5 [==============================] - 0s 10ms/step - loss: 0.5514 - mae: 0.6022 - val_loss: 0.6160 - val_mae: 0.6424\n",
      "Epoch 93/100\n",
      "5/5 [==============================] - 0s 9ms/step - loss: 0.5554 - mae: 0.5979 - val_loss: 0.6140 - val_mae: 0.6377\n",
      "Epoch 94/100\n",
      "5/5 [==============================] - 0s 9ms/step - loss: 0.5366 - mae: 0.5927 - val_loss: 0.6144 - val_mae: 0.6331\n",
      "Epoch 95/100\n",
      "5/5 [==============================] - 0s 9ms/step - loss: 0.5762 - mae: 0.6210 - val_loss: 0.6133 - val_mae: 0.6300\n",
      "Epoch 96/100\n",
      "5/5 [==============================] - 0s 9ms/step - loss: 0.5573 - mae: 0.6161 - val_loss: 0.6107 - val_mae: 0.6288\n",
      "Epoch 97/100\n",
      "5/5 [==============================] - 0s 9ms/step - loss: 0.5178 - mae: 0.5829 - val_loss: 0.6061 - val_mae: 0.6265\n",
      "Epoch 98/100\n",
      "5/5 [==============================] - 0s 9ms/step - loss: 0.5158 - mae: 0.5787 - val_loss: 0.6021 - val_mae: 0.6250\n",
      "Epoch 99/100\n",
      "5/5 [==============================] - 0s 9ms/step - loss: 0.5520 - mae: 0.6010 - val_loss: 0.6014 - val_mae: 0.6235\n",
      "Epoch 100/100\n",
      "5/5 [==============================] - 0s 9ms/step - loss: 0.5884 - mae: 0.6211 - val_loss: 0.5998 - val_mae: 0.6238\n"
     ]
    }
   ],
   "source": [
    "# Train the model\n",
    "history = model.fit(train_data, train_targets, validation_split=0.2,\n",
    "                   epochs=100, batch_size=64)"
   ]
  },
  {
   "cell_type": "code",
   "execution_count": 40,
   "metadata": {},
   "outputs": [
    {
     "name": "stdout",
     "output_type": "stream",
     "text": [
      "2/2 - 0s - loss: 0.8672 - mae: 0.7712\n"
     ]
    },
    {
     "data": {
      "text/plain": [
       "[0.8671931624412537, 0.7711866497993469]"
      ]
     },
     "execution_count": 40,
     "metadata": {},
     "output_type": "execute_result"
    }
   ],
   "source": [
    "# Evaluate the model on the test set\n",
    "model.evaluate(test_data, test_targets, verbose=2)"
   ]
  },
  {
   "cell_type": "code",
   "execution_count": 41,
   "metadata": {},
   "outputs": [
    {
     "data": {
      "image/png": "[encoded data removed]",
      "text/plain": [
       "<Figure size 432x288 with 1 Axes>"
      ]
     },
     "metadata": {
      "needs_background": "light"
     },
     "output_type": "display_data"
    }
   ],
   "source": [
    "# Plot the regularized training and validation losses\n",
    "plt.plot(history.history['loss'])\n",
    "plt.plot(history.history['val_loss'])\n",
    "plt.title('Loss vs. epochs')\n",
    "plt.ylabel('Loss')\n",
    "plt.xlabel('Epoch')\n",
    "plt.legend(['Training', 'Validation'], loc='upper right')\n",
    "plt.show()"
   ]
  },
  {
   "cell_type": "markdown",
   "metadata": {},
   "source": [
    "Through a combination of dropout and batch normalization we were able to eliminate overfitting of the model."
   ]
  },
  {
   "cell_type": "code",
   "execution_count": null,
   "metadata": {},
   "outputs": [],
   "source": []
  }
 ],
 "metadata": {
  "kernelspec": {
   "display_name": "Python 3",
   "language": "python",
   "name": "python3"
  },
  "language_info": {
   "codemirror_mode": {
    "name": "ipython",
    "version": 3
   },
   "file_extension": ".py",
   "mimetype": "text/x-python",
   "name": "python",
   "nbconvert_exporter": "python",
   "pygments_lexer": "ipython3",
   "version": "3.7.3"
  }
 },
 "nbformat": 4,
 "nbformat_minor": 2
}
